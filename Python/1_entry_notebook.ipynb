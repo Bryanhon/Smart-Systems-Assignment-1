{
 "cells": [
  {
   "cell_type": "markdown",
   "metadata": {},
   "source": [
    "# Assignment 1: Time Series Forecast With Python (Seasonal ARIMA)\n",
    "\n",
    "**Lecturer**: Vincent Claes<br>\n",
    "**Authors:** Bryan Honof, Jeffrey Gorissen<br>\n",
    "**Start Date:** 19/10/2018\n",
    "    \n",
    "**Objective:** Visualize and predict the future temperatures via ARIMA\n",
    "\n",
    "**Description:** This notebook acts as an index to all the other notebooks"
   ]
  },
  {
   "cell_type": "markdown",
   "metadata": {},
   "source": [
    "## Table of contents <a name=\"table-of-contents\"></a>\n",
    "\n",
    "1. [Table of notebooks](#table-notebooks)\n",
    "2. [Introduction](#introduction)\n",
    "3. [Collecting the data](#collecting-the-data)"
   ]
  },
  {
   "cell_type": "markdown",
   "metadata": {},
   "source": [
    "## 1. Table of notebooks <a name=\"table-notebooks\"></a>"
   ]
  },
  {
   "cell_type": "markdown",
   "metadata": {},
   "source": [
    "1. [Index notebook (current notebook)](./1_entry_notebook.ipynb)\n",
    "2. [Getting the data](./2_get_data.ipynb)\n",
    "3. [Some Exploratory Data Analysis (EDA)](./3_exploratory_data_analysis.ipynb)\n",
    "4. [Selecting our model](./4_model_selection.ipynb)\n",
    "5. [Fitting the data and predicting the future!](./5_fitting_and_predicting.ipynb)"
   ]
  },
  {
   "cell_type": "markdown",
   "metadata": {},
   "source": [
    "## 2. Introduction <a name=\"introduction\"></a>\n",
    "\n",
    "This notebook will give a brief overview of what the assignment was about, how we handled it and a small conclusion.\n",
    "\n",
    "The goal of the assignment was to predict the temperature values one hour and one day ahead of time. This was done by first collecting temperature data from a chosen location with the [CC3200 LaunchPad](http://www.ti.com/tool/CC3200-LAUNCHXL).\n",
    "\n",
    "\n",
    "The data the LaunchPad collected was stored in a database hosted on [heroku](https://heroku.com). An API to upload the data was also hosted on there.\n",
    "\n",
    "Once enough data is collected it was possible to build these notebooks to accually predict the temperature. This was done by using the [Python](https://www.python.org/) Programming Language in combination with some [modules](./requirements.txt) and [anaconda](https://www.anaconda.com/).\n",
    "\n",
    "Using Seasonal ARIMAX the future is predicted."
   ]
  },
  {
   "cell_type": "markdown",
   "metadata": {},
   "source": [
    "## 3. Collecting the data <a name=\"collecting-the-data\"></a>\n",
    "\n"
   ]
  },
  {
   "cell_type": "markdown",
   "metadata": {},
   "source": []
  }
 ],
 "metadata": {
  "kernelspec": {
   "display_name": "Python 3",
   "language": "python",
   "name": "python3"
  },
  "language_info": {
   "codemirror_mode": {
    "name": "ipython",
    "version": 3
   },
   "file_extension": ".py",
   "mimetype": "text/x-python",
   "name": "python",
   "nbconvert_exporter": "python",
   "pygments_lexer": "ipython3",
   "version": "3.6.6"
  }
 },
 "nbformat": 4,
 "nbformat_minor": 2
}
