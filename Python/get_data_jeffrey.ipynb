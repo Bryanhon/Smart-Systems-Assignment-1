{
 "cells": [
  {
   "cell_type": "markdown",
   "metadata": {},
   "source": [
    "# Assignment 1: Time Series Forecast With Python (Seasonal ARIMA)\n",
    "\n",
    "**Lecturer**: Vincent Claes<br>\n",
    "**Authors:** Bryan Honof, Jeffrey Gorissen<br>\n",
    "**Start Date:** 19/10/2018\n",
    "    \n",
    "**Objective:** Visualize and predict the future temperatures via ARIMA\n",
    "\n",
    "**Description:** This notebook takes care of downloading the data from either the weblink or the heroku database. Fixes all the errors in the data and outputs it to a ```.csv``` file"
   ]
  },
  {
   "cell_type": "markdown",
   "metadata": {},
   "source": [
    "## Table of contents\n",
    "\n",
    "1. [Import Libraries](#Import-Libraries)\n",
    "2. [Get Data](#Get-Data)  \n",
    "3. [Wrangle the Data](#Wrangle-the-Data)<br>\n",
    "    a. [restructure the dataframe](#restructure-the-dataframe)<br>\n",
    "    b. [create a timeseries dataframe](#create-a-timeseries-dataframe)\n",
    "4. [Fixing the errors in the data](#fixing)"
   ]
  },
  {
   "cell_type": "markdown",
   "metadata": {},
   "source": [
    "## 1. Import Libraries <a name=\"Import-Libraries\"></a>\n",
    "\n",
    "To start, we will import some package: in this case, we will make use of:\n",
    "* ```subprocess``` to run commands on our machine\n",
    "* ```pandas```     to create dataframes and retreive data\n",
    "* ```matplotlib``` to plot our data\n",
    "* ```sqlalchemy``` to create an engine to connect to the database"
   ]
  },
  {
   "cell_type": "code",
   "execution_count": 1,
   "metadata": {},
   "outputs": [],
   "source": [
    "import subprocess\n",
    "\n",
    "import pandas            as pd\n",
    "import matplotlib.pyplot as plt\n",
    "\n",
    "from sqlalchemy import create_engine"
   ]
  },
  {
   "cell_type": "markdown",
   "metadata": {},
   "source": [
    "## 2. Get Data <a name=\"Get-Data\"></a>\n",
    "\n",
    "We have 2 options here toggled by the 'in_school' variable.\n",
    "If this variable is set to True we will obtain our data by pulling a JSON object from the heroku webserver.\n",
    "If it is set to False we will obtain it by first connecting to the Heroku PostgreSQL database and applying a simple SQL querry to that database."
   ]
  },
  {
   "cell_type": "code",
   "execution_count": 2,
   "metadata": {},
   "outputs": [],
   "source": [
    "in_school = True\n",
    "\n",
    "if (True == in_school):\n",
    "    # Get the data from the web route because school blocks the port used by the database :)\n",
    "    \n",
    "    url  = 'https://ss-pxl-11603121.herokuapp.com/api/temps/'\n",
    "    data = pd.read_json(url, orient='columns')\n",
    "else:\n",
    "    # Get the data directly from the database\n",
    "    \n",
    "    HEROKU_APP_NAME = \"ss-pxl-11603121\"\n",
    "    TABLE_NAME      = \"Temperature\"\n",
    "\n",
    "    conn_info = subprocess.run([\"heroku\", \"config:get\", \"DATABASE_URL\", \"-a\", HEROKU_APP_NAME], stdout = subprocess.PIPE)\n",
    "    connuri   = conn_info.stdout.decode('utf-8').strip()\n",
    "\n",
    "    engine     = create_engine(connuri)\n",
    "    raw_engine = engine.raw_connection()\n",
    "\n",
    "    data = pd.read_sql_query(\"SELECT * FROM Temperature;\", raw_engine)"
   ]
  },
  {
   "cell_type": "code",
   "execution_count": 3,
   "metadata": {},
   "outputs": [
    {
     "data": {
      "text/html": [
       "<div>\n",
       "<style scoped>\n",
       "    .dataframe tbody tr th:only-of-type {\n",
       "        vertical-align: middle;\n",
       "    }\n",
       "\n",
       "    .dataframe tbody tr th {\n",
       "        vertical-align: top;\n",
       "    }\n",
       "\n",
       "    .dataframe thead th {\n",
       "        text-align: right;\n",
       "    }\n",
       "</style>\n",
       "<table border=\"1\" class=\"dataframe\">\n",
       "  <thead>\n",
       "    <tr style=\"text-align: right;\">\n",
       "      <th></th>\n",
       "      <th>creation_date</th>\n",
       "      <th>id</th>\n",
       "      <th>place</th>\n",
       "      <th>value</th>\n",
       "    </tr>\n",
       "  </thead>\n",
       "  <tbody>\n",
       "    <tr>\n",
       "      <th>0</th>\n",
       "      <td>2018-11-19T09:35:27.510835+00:00</td>\n",
       "      <td>1</td>\n",
       "      <td>Jeffrey Kot</td>\n",
       "      <td>22.50</td>\n",
       "    </tr>\n",
       "    <tr>\n",
       "      <th>1</th>\n",
       "      <td>2018-11-19T09:50:41.205836+00:00</td>\n",
       "      <td>2</td>\n",
       "      <td>Jeffrey Kot</td>\n",
       "      <td>21.46</td>\n",
       "    </tr>\n",
       "    <tr>\n",
       "      <th>2</th>\n",
       "      <td>2018-11-19T10:18:51.540526+00:00</td>\n",
       "      <td>3</td>\n",
       "      <td>Jeffrey Kot</td>\n",
       "      <td>23.88</td>\n",
       "    </tr>\n",
       "  </tbody>\n",
       "</table>\n",
       "</div>"
      ],
      "text/plain": [
       "                      creation_date  id        place  value\n",
       "0  2018-11-19T09:35:27.510835+00:00   1  Jeffrey Kot  22.50\n",
       "1  2018-11-19T09:50:41.205836+00:00   2  Jeffrey Kot  21.46\n",
       "2  2018-11-19T10:18:51.540526+00:00   3  Jeffrey Kot  23.88"
      ]
     },
     "execution_count": 3,
     "metadata": {},
     "output_type": "execute_result"
    }
   ],
   "source": [
    "# Make sure we recieved the data correctly by printing out the head()\n",
    "data.tail(5)"
   ]
  },
  {
   "cell_type": "markdown",
   "metadata": {},
   "source": [
    "## 3. Wrangle the Data <a name=\"Wrangle-the-Data\"></a>\n",
    "\n",
    "The first thing we want to do is get rid of the columns we are not interested in.\n",
    "\n",
    "In this case we are only interested in the ```creation_date``` column and the ```value``` column. We will also rename these to column to ```dateTime``` and ```temperature``` just for ease of use."
   ]
  },
  {
   "cell_type": "markdown",
   "metadata": {},
   "source": [
    "### a. restructure the dataframe <a name=\"restructure-the-dataframe\">"
   ]
  },
  {
   "cell_type": "code",
   "execution_count": 4,
   "metadata": {},
   "outputs": [
    {
     "data": {
      "text/html": [
       "<div>\n",
       "<style scoped>\n",
       "    .dataframe tbody tr th:only-of-type {\n",
       "        vertical-align: middle;\n",
       "    }\n",
       "\n",
       "    .dataframe tbody tr th {\n",
       "        vertical-align: top;\n",
       "    }\n",
       "\n",
       "    .dataframe thead th {\n",
       "        text-align: right;\n",
       "    }\n",
       "</style>\n",
       "<table border=\"1\" class=\"dataframe\">\n",
       "  <thead>\n",
       "    <tr style=\"text-align: right;\">\n",
       "      <th></th>\n",
       "      <th>dateTime</th>\n",
       "      <th>temperature</th>\n",
       "    </tr>\n",
       "  </thead>\n",
       "  <tbody>\n",
       "    <tr>\n",
       "      <th>0</th>\n",
       "      <td>2018-11-19T09:35:27.510835+00:00</td>\n",
       "      <td>22.50</td>\n",
       "    </tr>\n",
       "    <tr>\n",
       "      <th>1</th>\n",
       "      <td>2018-11-19T09:50:41.205836+00:00</td>\n",
       "      <td>21.46</td>\n",
       "    </tr>\n",
       "    <tr>\n",
       "      <th>2</th>\n",
       "      <td>2018-11-19T10:18:51.540526+00:00</td>\n",
       "      <td>23.88</td>\n",
       "    </tr>\n",
       "  </tbody>\n",
       "</table>\n",
       "</div>"
      ],
      "text/plain": [
       "                           dateTime  temperature\n",
       "0  2018-11-19T09:35:27.510835+00:00        22.50\n",
       "1  2018-11-19T09:50:41.205836+00:00        21.46\n",
       "2  2018-11-19T10:18:51.540526+00:00        23.88"
      ]
     },
     "execution_count": 4,
     "metadata": {},
     "output_type": "execute_result"
    }
   ],
   "source": [
    "# Filter out all the columsn except for 'creation_date' & 'value'\n",
    "# Rename those columns to 'dateTime' & temperature\n",
    "df = pd.DataFrame(data, columns = ['creation_date', 'value'])\n",
    "df.columns = ['dateTime', 'temperature']\n",
    "\n",
    "# Double check the results of the reassignment\n",
    "df.head(5)"
   ]
  },
  {
   "cell_type": "markdown",
   "metadata": {},
   "source": [
    "### b. create a timeseries dataframe <a name=\"create-a-timeseries-dataframe\">\n",
    "    \n",
    "Since we want a time series dataframe we still have to set the ```dateTime``` column to be our index. But to do this it still has to be converted to type type of ```Datetime``` first."
   ]
  },
  {
   "cell_type": "code",
   "execution_count": 5,
   "metadata": {
    "scrolled": false
   },
   "outputs": [
    {
     "name": "stdout",
     "output_type": "stream",
     "text": [
      "<class 'pandas.core.frame.DataFrame'>\n",
      "DatetimeIndex: 3 entries, 2018-11-19 09:35:27.510835 to 2018-11-19 10:18:51.540526\n",
      "Data columns (total 1 columns):\n",
      "temperature    3 non-null float64\n",
      "dtypes: float64(1)\n",
      "memory usage: 48.0 bytes\n"
     ]
    }
   ],
   "source": [
    "# Convert the creation_date column to datetime64\n",
    "df['dateTime'] = pd.to_datetime(df.dateTime)\n",
    "# Convert the value column to float\n",
    "df['temperature'] = pd.to_numeric(df.temperature)\n",
    "\n",
    "# Set the dateTime column as index\n",
    "df.set_index(['dateTime'], inplace=True)\n",
    "\n",
    "# Double check the results\n",
    "df.info()"
   ]
  },
  {
   "cell_type": "markdown",
   "metadata": {},
   "source": [
    "## 4. Fixing the errors in the data <a name=\"fixing\"></a>\n",
    "\n",
    "Like we saw in the previous step something went wrong when we were collecting our data.<br>\n",
    "To fix this we are going to do 2 things.\n",
    "* downsample our data to have a frequency of 15mins\n",
    "* get rid of all NaN values"
   ]
  },
  {
   "cell_type": "code",
   "execution_count": 6,
   "metadata": {},
   "outputs": [],
   "source": [
    "# Change the frequency to 15mins\n",
    "df_resample = df.resample('15T').mean()"
   ]
  },
  {
   "cell_type": "code",
   "execution_count": 7,
   "metadata": {},
   "outputs": [
    {
     "data": {
      "text/html": [
       "<div>\n",
       "<style scoped>\n",
       "    .dataframe tbody tr th:only-of-type {\n",
       "        vertical-align: middle;\n",
       "    }\n",
       "\n",
       "    .dataframe tbody tr th {\n",
       "        vertical-align: top;\n",
       "    }\n",
       "\n",
       "    .dataframe thead th {\n",
       "        text-align: right;\n",
       "    }\n",
       "</style>\n",
       "<table border=\"1\" class=\"dataframe\">\n",
       "  <thead>\n",
       "    <tr style=\"text-align: right;\">\n",
       "      <th></th>\n",
       "      <th>temperature</th>\n",
       "    </tr>\n",
       "    <tr>\n",
       "      <th>dateTime</th>\n",
       "      <th></th>\n",
       "    </tr>\n",
       "  </thead>\n",
       "  <tbody>\n",
       "    <tr>\n",
       "      <th>2018-11-19 09:30:00</th>\n",
       "      <td>22.50</td>\n",
       "    </tr>\n",
       "    <tr>\n",
       "      <th>2018-11-19 09:45:00</th>\n",
       "      <td>21.46</td>\n",
       "    </tr>\n",
       "    <tr>\n",
       "      <th>2018-11-19 10:00:00</th>\n",
       "      <td>NaN</td>\n",
       "    </tr>\n",
       "    <tr>\n",
       "      <th>2018-11-19 10:15:00</th>\n",
       "      <td>23.88</td>\n",
       "    </tr>\n",
       "  </tbody>\n",
       "</table>\n",
       "</div>"
      ],
      "text/plain": [
       "                     temperature\n",
       "dateTime                        \n",
       "2018-11-19 09:30:00        22.50\n",
       "2018-11-19 09:45:00        21.46\n",
       "2018-11-19 10:00:00          NaN\n",
       "2018-11-19 10:15:00        23.88"
      ]
     },
     "execution_count": 7,
     "metadata": {},
     "output_type": "execute_result"
    }
   ],
   "source": [
    "df_resample.head()"
   ]
  },
  {
   "cell_type": "code",
   "execution_count": 8,
   "metadata": {},
   "outputs": [
    {
     "data": {
      "text/plain": [
       "temperature    1\n",
       "dtype: int64"
      ]
     },
     "execution_count": 8,
     "metadata": {},
     "output_type": "execute_result"
    }
   ],
   "source": [
    "df_resample.isnull().sum()"
   ]
  },
  {
   "cell_type": "markdown",
   "metadata": {},
   "source": [
    "This output tells us that there are (at the moment of writing this) 75 NaN values in our dataframe"
   ]
  },
  {
   "cell_type": "code",
   "execution_count": 9,
   "metadata": {},
   "outputs": [
    {
     "data": {
      "image/png": "[encoded data removed]",
      "text/plain": [
       "<Figure size 1440x720 with 1 Axes>"
      ]
     },
     "metadata": {},
     "output_type": "display_data"
    }
   ],
   "source": [
    "df_resample.plot(figsize=(20, 10), fontsize=20)\n",
    "plt.xlabel('Date Time', fontsize=20)\n",
    "plt.ylabel('Temperature °C', fontsize=20)\n",
    "plt.show()"
   ]
  },
  {
   "cell_type": "markdown",
   "metadata": {},
   "source": [
    "By plotting out the dataframe we can clearly see the missing data."
   ]
  },
  {
   "cell_type": "code",
   "execution_count": 10,
   "metadata": {},
   "outputs": [],
   "source": [
    "df_resample = df_resample.interpolate(method='linear')\n",
    "df_resample = df_resample.round(2)"
   ]
  },
  {
   "cell_type": "code",
   "execution_count": 11,
   "metadata": {
    "scrolled": false
   },
   "outputs": [
    {
     "data": {
      "image/png": "[encoded data removed]",
      "text/plain": [
       "<Figure size 1440x720 with 1 Axes>"
      ]
     },
     "metadata": {},
     "output_type": "display_data"
    }
   ],
   "source": [
    "df_resample.plot(figsize=(20, 10), fontsize=20)\n",
    "plt.xlabel('Date Time', fontsize=20)\n",
    "plt.ylabel('Temperature °C', fontsize=20)\n",
    "plt.show()"
   ]
  },
  {
   "cell_type": "markdown",
   "metadata": {},
   "source": [
    "But guys... this chart looks exactly the same like the one you first said was wrong! Do you even know what you are doing???\n",
    "\n",
    "Well yes they look identical but the difference between the 2 is that this one accually has values for each index. The previous chart skipped some indexes."
   ]
  },
  {
   "cell_type": "code",
   "execution_count": 12,
   "metadata": {},
   "outputs": [],
   "source": [
    "df = df_resample"
   ]
  },
  {
   "cell_type": "code",
   "execution_count": 13,
   "metadata": {},
   "outputs": [],
   "source": [
    "df.to_csv('data.csv')"
   ]
  }
 ],
 "metadata": {
  "kernelspec": {
   "display_name": "Python 3",
   "language": "python",
   "name": "python3"
  },
  "language_info": {
   "codemirror_mode": {
    "name": "ipython",
    "version": 3
   },
   "file_extension": ".py",
   "mimetype": "text/x-python",
   "name": "python",
   "nbconvert_exporter": "python",
   "pygments_lexer": "ipython3",
   "version": "3.6.5"
  }
 },
 "nbformat": 4,
 "nbformat_minor": 2
}
