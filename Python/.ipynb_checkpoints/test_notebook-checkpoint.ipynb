{
 "cells": [
  {
   "cell_type": "markdown",
   "metadata": {},
   "source": [
    "# Assignment 1\n",
    "\n",
    "**Authors:** Bryan Honof, Jeffrey Gorissen<br>\n",
    "**Start Date:** 19/10/2018\n",
    "    \n",
    "**Objective:** Visualize and predict the future temperatures via ARIMA"
   ]
  },
  {
   "cell_type": "markdown",
   "metadata": {},
   "source": [
    "## Table of contents\n",
    "\n",
    "1. [Import Libraries](#Import-Libraries)\n",
    "2. [Get Data](#Get-Data)  \n",
    "    a. [Restructure the data to a time series](#Restructure-Data)  \n",
    "3. [A bit of Exploratory Data Analysis (EDA)](#EDA)  \n",
    "\n"
   ]
  },
  {
   "cell_type": "markdown",
   "metadata": {},
   "source": [
    "## 1. Import Libraries <a name=\"Import-Libraries\"></a>"
   ]
  },
  {
   "cell_type": "code",
   "execution_count": 1,
   "metadata": {},
   "outputs": [],
   "source": [
    "%matplotlib inline\n",
    "\n",
    "import warnings\n",
    "import itertools\n",
    "import subprocess\n",
    "import psycopg2\n",
    "\n",
    "import pandas            as pd\n",
    "import numpy             as np\n",
    "import statsmodels.api   as sm\n",
    "import matplotlib.pyplot as plt\n",
    "import seaborn           as sns\n",
    "\n",
    "from scipy import stats\n",
    "from statsmodels.graphics.api import qqplot\n",
    "\n",
    "sns.set()\n",
    "warnings.filterwarnings('ignore')"
   ]
  },
  {
   "cell_type": "markdown",
   "metadata": {},
   "source": [
    "## 2. Get Data <a name=\"Get-Data\"></a>\n",
    "\n",
    "We have 2 options here toggled by the 'in_school' variable.\n",
    "If this variable is set to True we will obtain our data by pulling a JSON object from the heroku webserver.\n",
    "If it is set to False we will obtain it by first connecting to the Heroku PostgreSQL database and applying a simple SQL querry to that database."
   ]
  },
  {
   "cell_type": "code",
   "execution_count": 2,
   "metadata": {},
   "outputs": [
    {
     "name": "stdout",
     "output_type": "stream",
     "text": [
      "                      creation_date  id                          place  value\n",
      "0  2018-11-10T23:38:44.453789+00:00   1  Lat:51.037460, Long: 5.301590  21.48\n",
      "1  2018-11-10T23:53:53.134313+00:00   2  Lat:51.037460, Long: 5.301590  19.48\n",
      "2  2018-11-10T23:53:57.457321+00:00   3  Lat:51.037460, Long: 5.301590  20.60\n",
      "3  2018-11-10T23:56:10.690055+00:00   4  Lat:51.037460, Long: 5.301590  20.45\n",
      "4  2018-11-10T23:58:49.577553+00:00   5  Lat:51.037460, Long: 5.301590  20.76\n"
     ]
    }
   ],
   "source": [
    "in_school = True\n",
    "\n",
    "if (True == in_school):\n",
    "    # Get the data from the web route because school blocks the port used by the database :)\n",
    "    \n",
    "    url = 'https://pxl-ss.herokuapp.com/api/temps'\n",
    "    data = pd.read_json(url, orient='columns')\n",
    "else:\n",
    "    # Get the data directly from the database\n",
    "    \n",
    "    HEROKU_APP_NAME = \"pxl-ss\"\n",
    "    TABLE_NAME = \"Temperature\"\n",
    "\n",
    "    conn_info = subprocess.run([\"heroku\", \"config:get\", \"DATABASE_URL\", \"-a\", HEROKU_APP_NAME], stdout = subprocess.PIPE)\n",
    "    connuri = conn_info.stdout.decode('utf-8').strip()\n",
    "\n",
    "    engine = create_engine(connuri)\n",
    "    raw_engine = engine.raw_connection()\n",
    "\n",
    "    data = pd.read_sql_query(\"SELECT * FROM Temperature;\", raw_engine)\n",
    "    \n",
    "\n",
    "print(data.head())"
   ]
  },
  {
   "cell_type": "markdown",
   "metadata": {},
   "source": [
    "### a. Restructure the data to a time series <a name=\"Restructure-Data\"></a>\n",
    "\n",
    "The data we got from our source is has multiple tables we don't care about, we really only care about the 'creation_date' & 'value' column.<br>\n",
    "We create a new pandas dataframe with only those 2 columns and rename them to a more human readable names: 'dateTime' & 'temperature'.\n",
    "\n",
    "Afther renaming the columns we will have to convert them to the right data type. datetime for the 'dateTime' column and float for the 'temperature' column.\n",
    "\n",
    "Since we are aiming to work with a time series we have to set the 'dateTime' column as the index."
   ]
  },
  {
   "cell_type": "code",
   "execution_count": 3,
   "metadata": {
    "scrolled": true
   },
   "outputs": [
    {
     "name": "stdout",
     "output_type": "stream",
     "text": [
      "                            temperature\n",
      "dateTime                               \n",
      "2018-11-10 23:38:44.453789        21.48\n",
      "2018-11-10 23:53:53.134313        19.48\n",
      "2018-11-10 23:53:57.457321        20.60\n",
      "2018-11-10 23:56:10.690055        20.45\n",
      "2018-11-10 23:58:49.577553        20.76\n"
     ]
    }
   ],
   "source": [
    "# Filter out all the columsn except for 'creation_date' & 'value'\n",
    "# Rename those columns to 'dateTime' & temperature\n",
    "df = pd.DataFrame(data, columns = ['creation_date', 'value'])\n",
    "df.columns = ['dateTime', 'temperature']\n",
    "\n",
    "# Inspect data\n",
    "#print(df.info())\n",
    "\n",
    "# Convert the creation_date column to datetime64\n",
    "# df['dateTime'] = pd.to_datetime(df['dateTime'])\n",
    "df['dateTime'] = pd.to_datetime(df.dateTime)\n",
    "# Convert the value column to float\n",
    "df['temperature'] = pd.to_numeric(df.temperature)\n",
    "\n",
    "# Set the dateTime column as index\n",
    "df.set_index(['dateTime'], inplace=True)\n",
    "\n",
    "# Inspect data\n",
    "print(df.head())"
   ]
  },
  {
   "cell_type": "markdown",
   "metadata": {},
   "source": [
    "## 3. A bit of Exploratory Data Analysis (EDA) <a name=\"EDA\"></a>"
   ]
  },
  {
   "cell_type": "code",
   "execution_count": 4,
   "metadata": {},
   "outputs": [
    {
     "data": {
      "text/plain": [
       "<matplotlib.axes._subplots.AxesSubplot at 0x7f8b8034e2b0>"
      ]
     },
     "execution_count": 4,
     "metadata": {},
     "output_type": "execute_result"
    },
    {
     "data": {
      "image/png": "[encoded data removed]",
      "text/plain": [
       "<Figure size 432x288 with 1 Axes>"
      ]
     },
     "metadata": {
      "needs_background": "light"
     },
     "output_type": "display_data"
    }
   ],
   "source": [
    "sns.distplot(df['temperature'])"
   ]
  },
  {
   "cell_type": "code",
   "execution_count": 5,
   "metadata": {},
   "outputs": [
    {
     "data": {
      "text/plain": [
       "<matplotlib.axes._subplots.AxesSubplot at 0x7f8b4c8a50b8>"
      ]
     },
     "execution_count": 5,
     "metadata": {},
     "output_type": "execute_result"
    },
    {
     "data": {
      "image/png": "[encoded data removed]",
      "text/plain": [
       "<Figure size 432x288 with 2 Axes>"
      ]
     },
     "metadata": {
      "needs_background": "light"
     },
     "output_type": "display_data"
    }
   ],
   "source": [
    "test = df.rolling(5).mean().resample('D').first()\n",
    "sns.heatmap(test)"
   ]
  },
  {
   "cell_type": "code",
   "execution_count": null,
   "metadata": {},
   "outputs": [],
   "source": []
  }
 ],
 "metadata": {
  "kernelspec": {
   "display_name": "Python 3",
   "language": "python",
   "name": "python3"
  },
  "language_info": {
   "codemirror_mode": {
    "name": "ipython",
    "version": 3
   },
   "file_extension": ".py",
   "mimetype": "text/x-python",
   "name": "python",
   "nbconvert_exporter": "python",
   "pygments_lexer": "ipython3",
   "version": "3.6.6"
  }
 },
 "nbformat": 4,
 "nbformat_minor": 2
}
