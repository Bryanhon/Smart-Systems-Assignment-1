{
 "cells": [
  {
   "cell_type": "markdown",
   "metadata": {},
   "source": [
    "# Assignment 1: Time Series Forecast With Python (Seasonal ARIMA)\n",
    "\n",
    "**Lecturer**: Vincent Claes<br>\n",
    "**Authors:** Bryan Honof, Jeffrey Gorissen<br>\n",
    "**Start Date:** 19/10/2018\n",
    "    \n",
    "**Objective:** Visualize and predict the future temperatures via ARIMA\n",
    "\n",
    "**Description:** In this notebook we train our model"
   ]
  },
  {
   "cell_type": "code",
   "execution_count": 1,
   "metadata": {},
   "outputs": [],
   "source": [
    "import math\n",
    "import warnings\n",
    "import datetime\n",
    "\n",
    "import pandas            as pd\n",
    "import itertools         as it\n",
    "import statsmodels.api   as sm\n",
    "import matplotlib.pyplot as plt\n",
    "\n",
    "warnings.filterwarnings(\"ignore\") # specify to ignore warning messages"
   ]
  },
  {
   "cell_type": "code",
   "execution_count": 2,
   "metadata": {},
   "outputs": [
    {
     "name": "stdout",
     "output_type": "stream",
     "text": [
      "<class 'pandas.core.frame.DataFrame'>\n",
      "DatetimeIndex: 828 entries, 2018-11-11 03:00:00 to 2018-11-19 17:45:00\n",
      "Data columns (total 1 columns):\n",
      "temperature    828 non-null float64\n",
      "dtypes: float64(1)\n",
      "memory usage: 12.9 KB\n"
     ]
    }
   ],
   "source": [
    "data_csv = pd.read_csv('./data/rolmean_data.csv')\n",
    "data = pd.DataFrame()\n",
    "\n",
    "# Convert the creation_date column to datetime64\n",
    "data['dateTime'] = pd.to_datetime(data_csv['dateTime'])\n",
    "# Convert the value column to float\n",
    "data['temperature'] = pd.to_numeric(data_csv['temperature'])\n",
    "\n",
    "# Set the dateTime column as index\n",
    "data = data.set_index(['dateTime'])\n",
    "\n",
    "# Sort the dataFrame just to be sure...\n",
    "data = data.sort_index()\n",
    "\n",
    "data = data.dropna()\n",
    "\n",
    "# Double check the results\n",
    "data.info()"
   ]
  },
  {
   "cell_type": "code",
   "execution_count": 3,
   "metadata": {
    "scrolled": false
   },
   "outputs": [
    {
     "data": {
      "text/html": [
       "<div>\n",
       "<style scoped>\n",
       "    .dataframe tbody tr th:only-of-type {\n",
       "        vertical-align: middle;\n",
       "    }\n",
       "\n",
       "    .dataframe tbody tr th {\n",
       "        vertical-align: top;\n",
       "    }\n",
       "\n",
       "    .dataframe thead th {\n",
       "        text-align: right;\n",
       "    }\n",
       "</style>\n",
       "<table border=\"1\" class=\"dataframe\">\n",
       "  <thead>\n",
       "    <tr style=\"text-align: right;\">\n",
       "      <th></th>\n",
       "      <th>temperature</th>\n",
       "    </tr>\n",
       "    <tr>\n",
       "      <th>dateTime</th>\n",
       "      <th></th>\n",
       "    </tr>\n",
       "  </thead>\n",
       "  <tbody>\n",
       "    <tr>\n",
       "      <th>2018-11-19 16:45:00</th>\n",
       "      <td>17.28</td>\n",
       "    </tr>\n",
       "    <tr>\n",
       "      <th>2018-11-19 17:00:00</th>\n",
       "      <td>17.29</td>\n",
       "    </tr>\n",
       "    <tr>\n",
       "      <th>2018-11-19 17:15:00</th>\n",
       "      <td>17.23</td>\n",
       "    </tr>\n",
       "    <tr>\n",
       "      <th>2018-11-19 17:30:00</th>\n",
       "      <td>17.21</td>\n",
       "    </tr>\n",
       "    <tr>\n",
       "      <th>2018-11-19 17:45:00</th>\n",
       "      <td>17.03</td>\n",
       "    </tr>\n",
       "  </tbody>\n",
       "</table>\n",
       "</div>"
      ],
      "text/plain": [
       "                     temperature\n",
       "dateTime                        \n",
       "2018-11-19 16:45:00        17.28\n",
       "2018-11-19 17:00:00        17.29\n",
       "2018-11-19 17:15:00        17.23\n",
       "2018-11-19 17:30:00        17.21\n",
       "2018-11-19 17:45:00        17.03"
      ]
     },
     "execution_count": 3,
     "metadata": {},
     "output_type": "execute_result"
    }
   ],
   "source": [
    "data.tail(5)"
   ]
  },
  {
   "cell_type": "code",
   "execution_count": 5,
   "metadata": {},
   "outputs": [
    {
     "name": "stdout",
     "output_type": "stream",
     "text": [
      "                                 Statespace Model Results                                 \n",
      "==========================================================================================\n",
      "Dep. Variable:                        temperature   No. Observations:                  828\n",
      "Model:             SARIMAX(1, 1, 1)x(0, 0, 1, 15)   Log Likelihood                1064.713\n",
      "Date:                            Mon, 19 Nov 2018   AIC                          -2121.426\n",
      "Time:                                    19:29:22   BIC                          -2102.638\n",
      "Sample:                                11-11-2018   HQIC                         -2114.213\n",
      "                                     - 11-19-2018                                         \n",
      "Covariance Type:                              opg                                         \n",
      "==============================================================================\n",
      "                 coef    std err          z      P>|z|      [0.025      0.975]\n",
      "------------------------------------------------------------------------------\n",
      "ar.L1          0.9718      0.010     94.349      0.000       0.952       0.992\n",
      "ma.L1         -0.6230      0.023    -27.412      0.000      -0.668      -0.578\n",
      "ma.S.L15      -0.9196      0.022    -42.081      0.000      -0.962      -0.877\n",
      "sigma2         0.0041      0.000     30.554      0.000       0.004       0.004\n",
      "===================================================================================\n",
      "Ljung-Box (Q):                       64.83   Jarque-Bera (JB):              1036.84\n",
      "Prob(Q):                              0.01   Prob(JB):                         0.00\n",
      "Heteroskedasticity (H):               0.39   Skew:                             0.97\n",
      "Prob(H) (two-sided):                  0.00   Kurtosis:                         8.20\n",
      "===================================================================================\n",
      "\n",
      "Warnings:\n",
      "[1] Covariance matrix calculated using the outer product of gradients (complex-step).\n"
     ]
    }
   ],
   "source": [
    "mod = sm.tsa.statespace.SARIMAX(data,\n",
    "                                order=(1, 1, 1),\n",
    "                                seasonal_order=(0, 0, 1, 15),\n",
    "                                enforce_stationarity=False,\n",
    "                                enforce_invertibility=False)\n",
    "\n",
    "results = mod.fit()\n",
    "\n",
    "print(results.summary())"
   ]
  },
  {
   "cell_type": "code",
   "execution_count": 7,
   "metadata": {},
   "outputs": [],
   "source": [
    "#The code requires the forecasts to start at January 1998\n",
    "#The dynamic=False argument ensures that we produce one-step ahead forecasts, \n",
    "#meaning that forecasts at each point are generated using the full history up to that point.\n",
    "pred = results.get_prediction(start=pd.to_datetime('2018-11-11 03'), dynamic=False)\n",
    "pred_ci = pred.conf_int()"
   ]
  },
  {
   "cell_type": "code",
   "execution_count": 19,
   "metadata": {},
   "outputs": [
    {
     "data": {
      "text/html": [
       "<div>\n",
       "<style scoped>\n",
       "    .dataframe tbody tr th:only-of-type {\n",
       "        vertical-align: middle;\n",
       "    }\n",
       "\n",
       "    .dataframe tbody tr th {\n",
       "        vertical-align: top;\n",
       "    }\n",
       "\n",
       "    .dataframe thead th {\n",
       "        text-align: right;\n",
       "    }\n",
       "</style>\n",
       "<table border=\"1\" class=\"dataframe\">\n",
       "  <thead>\n",
       "    <tr style=\"text-align: right;\">\n",
       "      <th></th>\n",
       "      <th>temperature</th>\n",
       "    </tr>\n",
       "    <tr>\n",
       "      <th>dateTime</th>\n",
       "      <th></th>\n",
       "    </tr>\n",
       "  </thead>\n",
       "  <tbody>\n",
       "    <tr>\n",
       "      <th>2018-11-19 16:45:00</th>\n",
       "      <td>17.28</td>\n",
       "    </tr>\n",
       "    <tr>\n",
       "      <th>2018-11-19 17:00:00</th>\n",
       "      <td>17.29</td>\n",
       "    </tr>\n",
       "    <tr>\n",
       "      <th>2018-11-19 17:15:00</th>\n",
       "      <td>17.23</td>\n",
       "    </tr>\n",
       "    <tr>\n",
       "      <th>2018-11-19 17:30:00</th>\n",
       "      <td>17.21</td>\n",
       "    </tr>\n",
       "    <tr>\n",
       "      <th>2018-11-19 17:45:00</th>\n",
       "      <td>17.03</td>\n",
       "    </tr>\n",
       "  </tbody>\n",
       "</table>\n",
       "</div>"
      ],
      "text/plain": [
       "                     temperature\n",
       "dateTime                        \n",
       "2018-11-19 16:45:00        17.28\n",
       "2018-11-19 17:00:00        17.29\n",
       "2018-11-19 17:15:00        17.23\n",
       "2018-11-19 17:30:00        17.21\n",
       "2018-11-19 17:45:00        17.03"
      ]
     },
     "execution_count": 19,
     "metadata": {},
     "output_type": "execute_result"
    }
   ],
   "source": [
    "data[data.index >= '2018-11-11 03'].tail(5)"
   ]
  },
  {
   "cell_type": "code",
   "execution_count": 20,
   "metadata": {},
   "outputs": [
    {
     "data": {
      "text/html": [
       "<div>\n",
       "<style scoped>\n",
       "    .dataframe tbody tr th:only-of-type {\n",
       "        vertical-align: middle;\n",
       "    }\n",
       "\n",
       "    .dataframe tbody tr th {\n",
       "        vertical-align: top;\n",
       "    }\n",
       "\n",
       "    .dataframe thead th {\n",
       "        text-align: right;\n",
       "    }\n",
       "</style>\n",
       "<table border=\"1\" class=\"dataframe\">\n",
       "  <thead>\n",
       "    <tr style=\"text-align: right;\">\n",
       "      <th></th>\n",
       "      <th>lower temperature</th>\n",
       "      <th>upper temperature</th>\n",
       "    </tr>\n",
       "  </thead>\n",
       "  <tbody>\n",
       "    <tr>\n",
       "      <th>2018-11-19 16:45:00</th>\n",
       "      <td>17.165660</td>\n",
       "      <td>17.416160</td>\n",
       "    </tr>\n",
       "    <tr>\n",
       "      <th>2018-11-19 17:00:00</th>\n",
       "      <td>17.123739</td>\n",
       "      <td>17.374238</td>\n",
       "    </tr>\n",
       "    <tr>\n",
       "      <th>2018-11-19 17:15:00</th>\n",
       "      <td>17.185800</td>\n",
       "      <td>17.436299</td>\n",
       "    </tr>\n",
       "    <tr>\n",
       "      <th>2018-11-19 17:30:00</th>\n",
       "      <td>17.128074</td>\n",
       "      <td>17.378574</td>\n",
       "    </tr>\n",
       "    <tr>\n",
       "      <th>2018-11-19 17:45:00</th>\n",
       "      <td>17.004167</td>\n",
       "      <td>17.254667</td>\n",
       "    </tr>\n",
       "  </tbody>\n",
       "</table>\n",
       "</div>"
      ],
      "text/plain": [
       "                     lower temperature  upper temperature\n",
       "2018-11-19 16:45:00          17.165660          17.416160\n",
       "2018-11-19 17:00:00          17.123739          17.374238\n",
       "2018-11-19 17:15:00          17.185800          17.436299\n",
       "2018-11-19 17:30:00          17.128074          17.378574\n",
       "2018-11-19 17:45:00          17.004167          17.254667"
      ]
     },
     "execution_count": 20,
     "metadata": {},
     "output_type": "execute_result"
    }
   ],
   "source": [
    "pred_ci.tail(5)"
   ]
  },
  {
   "cell_type": "code",
   "execution_count": 30,
   "metadata": {},
   "outputs": [
    {
     "data": {
      "image/png": "[encoded data removed]",
      "text/plain": [
       "<Figure size 432x288 with 1 Axes>"
      ]
     },
     "metadata": {
      "needs_background": "light"
     },
     "output_type": "display_data"
    }
   ],
   "source": [
    "ax = data.plot(label='observed')\n",
    "pred.predicted_mean.plot(ax=ax, label='One-step ahead Forecast', alpha=.7)\n",
    "\n",
    "#ax.fill_between(pred_ci.index,\n",
    "#                pred_ci.iloc[:, 0],\n",
    "#                pred_ci.iloc[:, 1], color='k', alpha=.2)\n",
    "\n",
    "ax.set_xlabel('Temperature')\n",
    "ax.set_ylabel('Date Time')\n",
    "plt.legend()\n",
    "plt.Figure(figsize=(20,8))\n",
    "plt.show()"
   ]
  },
  {
   "cell_type": "code",
   "execution_count": null,
   "metadata": {},
   "outputs": [],
   "source": []
  }
 ],
 "metadata": {
  "kernelspec": {
   "display_name": "Python 3",
   "language": "python",
   "name": "python3"
  },
  "language_info": {
   "codemirror_mode": {
    "name": "ipython",
    "version": 3
   },
   "file_extension": ".py",
   "mimetype": "text/x-python",
   "name": "python",
   "nbconvert_exporter": "python",
   "pygments_lexer": "ipython3",
   "version": "3.6.6"
  }
 },
 "nbformat": 4,
 "nbformat_minor": 2
}
