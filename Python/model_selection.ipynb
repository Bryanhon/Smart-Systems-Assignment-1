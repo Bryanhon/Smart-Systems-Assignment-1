{
 "cells": [
  {
   "cell_type": "code",
   "execution_count": 1,
   "metadata": {},
   "outputs": [],
   "source": [
    "import warnings\n",
    "\n",
    "warnings.filterwarnings(\"ignore\") # specify to ignore warning messages\n",
    "\n",
    "import pandas as pd\n",
    "import matplotlib.pyplot as plt\n",
    "import itertools as it\n",
    "import datetime\n",
    "import math\n",
    "\n",
    "import statsmodels.api as sm"
   ]
  },
  {
   "cell_type": "code",
   "execution_count": 2,
   "metadata": {},
   "outputs": [],
   "source": [
    "res = pd.read_csv('temperature.csv')"
   ]
  },
  {
   "cell_type": "code",
   "execution_count": 3,
   "metadata": {},
   "outputs": [
    {
     "name": "stdout",
     "output_type": "stream",
     "text": [
      "[(0, 0, 0), (0, 0, 1), (0, 1, 0), (0, 1, 1), (1, 0, 0), (1, 0, 1), (1, 1, 0), (1, 1, 1)]\n",
      "Examples of parameter combinations for Seasonal ARIMA...\n",
      "SARIMAX: (0, 0, 1) x (0, 0, 1, 96)\n",
      "SARIMAX: (0, 0, 1) x (0, 1, 0, 96)\n",
      "SARIMAX: (0, 1, 0) x (0, 1, 1, 96)\n",
      "SARIMAX: (0, 1, 0) x (1, 0, 0, 96)\n"
     ]
    }
   ],
   "source": [
    "# Tune Seasonal ARIMA model\n",
    "# Define the p, d and q parameters to take any value between 0 and 2\n",
    "p = d = q = range(0,2)\n",
    "\n",
    "# Generate all different combinations of p, q and q triplets\n",
    "pdq = list(it.product(p, d, q))\n",
    "print(pdq)\n",
    "\n",
    "# Generate all different combinations of seasonal p, q and q triplets\n",
    "# Seasonality is one week (24*7 = 168 hours)\n",
    "seasonal_pdq = [(x[0], x[1], x[2], 96) for x in list(it.product(p, d, q))]\n",
    "\n",
    "print('Examples of parameter combinations for Seasonal ARIMA...')\n",
    "print('SARIMAX: {} x {}'.format(pdq[1], seasonal_pdq[1]))\n",
    "print('SARIMAX: {} x {}'.format(pdq[1], seasonal_pdq[2]))\n",
    "print('SARIMAX: {} x {}'.format(pdq[2], seasonal_pdq[3]))\n",
    "print('SARIMAX: {} x {}'.format(pdq[2], seasonal_pdq[4]))"
   ]
  },
  {
   "cell_type": "code",
   "execution_count": null,
   "metadata": {},
   "outputs": [
    {
     "name": "stdout",
     "output_type": "stream",
     "text": [
      "ARIMA(0, 0, 0)x(0, 0, 0, 96)96 - AIC:6465.77\n",
      "ARIMA(0, 0, 0)x(0, 0, 1, 96)96 - AIC:5024.04\n",
      "ARIMA(0, 0, 0)x(0, 1, 0, 96)96 - AIC:2609.77\n",
      "ARIMA(0, 0, 0)x(0, 1, 1, 96)96 - AIC:2142.46\n",
      "ARIMA(0, 0, 0)x(1, 0, 0, 96)96 - AIC:2568.48\n",
      "ARIMA(0, 0, 0)x(1, 0, 1, 96)96 - AIC:2391.48\n",
      "ARIMA(0, 0, 0)x(1, 1, 0, 96)96 - AIC:2136.59\n",
      "ARIMA(0, 0, 0)x(1, 1, 1, 96)96 - AIC:2124.63\n",
      "ARIMA(0, 0, 1)x(0, 0, 0, 96)96 - AIC:5515.8\n",
      "ARIMA(0, 0, 1)x(0, 0, 1, 96)96 - AIC:4279.29\n",
      "ARIMA(0, 0, 1)x(0, 1, 0, 96)96 - AIC:2438.9\n",
      "ARIMA(0, 0, 1)x(0, 1, 1, 96)96 - AIC:1955.79\n",
      "ARIMA(0, 0, 1)x(1, 0, 0, 96)96 - AIC:2409.71\n",
      "ARIMA(0, 0, 1)x(1, 0, 1, 96)96 - AIC:2233.58\n",
      "ARIMA(0, 0, 1)x(1, 1, 0, 96)96 - AIC:1965.54\n",
      "ARIMA(0, 0, 1)x(1, 1, 1, 96)96 - AIC:1957.17\n",
      "ARIMA(0, 1, 0)x(0, 0, 0, 96)96 - AIC:2352.39\n",
      "ARIMA(0, 1, 0)x(0, 0, 1, 96)96 - AIC:1851.16\n",
      "ARIMA(0, 1, 0)x(0, 1, 0, 96)96 - AIC:2439.16\n",
      "ARIMA(0, 1, 0)x(0, 1, 1, 96)96 - AIC:1826.15\n",
      "ARIMA(0, 1, 0)x(1, 0, 0, 96)96 - AIC:1853.03\n",
      "ARIMA(0, 1, 0)x(1, 0, 1, 96)96 - AIC:1853.16\n",
      "ARIMA(0, 1, 0)x(1, 1, 0, 96)96 - AIC:1907.54\n",
      "ARIMA(0, 1, 0)x(1, 1, 1, 96)96 - AIC:1753.36\n",
      "ARIMA(0, 1, 1)x(0, 0, 0, 96)96 - AIC:2055.68\n",
      "ARIMA(0, 1, 1)x(0, 0, 1, 96)96 - AIC:1647.58\n",
      "ARIMA(0, 1, 1)x(0, 1, 0, 96)96 - AIC:2153.66\n",
      "ARIMA(0, 1, 1)x(0, 1, 1, 96)96 - AIC:1609.78\n",
      "ARIMA(0, 1, 1)x(1, 0, 0, 96)96 - AIC:1651.85\n",
      "ARIMA(0, 1, 1)x(1, 0, 1, 96)96 - AIC:1649.54\n",
      "ARIMA(0, 1, 1)x(1, 1, 0, 96)96 - AIC:1688.77\n",
      "ARIMA(0, 1, 1)x(1, 1, 1, 96)96 - AIC:1569.37\n",
      "ARIMA(1, 0, 0)x(0, 0, 0, 96)96 - AIC:2356.51\n",
      "ARIMA(1, 0, 0)x(0, 0, 1, 96)96 - AIC:1854.42\n",
      "ARIMA(1, 0, 0)x(0, 1, 0, 96)96 - AIC:2304.73\n",
      "ARIMA(1, 0, 0)x(0, 1, 1, 96)96 - AIC:1766.46\n",
      "ARIMA(1, 0, 0)x(1, 0, 0, 96)96 - AIC:1854.43\n",
      "ARIMA(1, 0, 0)x(1, 0, 1, 96)96 - AIC:1856.42\n",
      "ARIMA(1, 0, 0)x(1, 1, 0, 96)96 - AIC:1809.35\n",
      "ARIMA(1, 0, 0)x(1, 1, 1, 96)96 - AIC:1717.55\n",
      "ARIMA(1, 0, 1)x(0, 0, 0, 96)96 - AIC:2059.6\n",
      "ARIMA(1, 0, 1)x(0, 0, 1, 96)96 - AIC:1651.17\n",
      "ARIMA(1, 0, 1)x(0, 1, 0, 96)96 - AIC:2146.53\n",
      "ARIMA(1, 0, 1)x(0, 1, 1, 96)96 - AIC:1608.12\n",
      "ARIMA(1, 0, 1)x(1, 0, 0, 96)96 - AIC:1653.6\n"
     ]
    }
   ],
   "source": [
    "result_list = []\n",
    "\n",
    "for param in pdq:\n",
    "    for param_seasonal in seasonal_pdq:\n",
    "        try:\n",
    "            mod = sm.tsa.statespace.SARIMAX(res['temperature'],\n",
    "                                            order=param,\n",
    "                                            seasonal_order=param_seasonal,\n",
    "                                            enforce_stationarity=False,\n",
    "                                            enforce_invertibility=False)\n",
    "            results = mod.fit()\n",
    "\n",
    "            print('ARIMA{}x{}96 - AIC:{}'.format(param, param_seasonal, round(results.aic,2)))\n",
    "            result_list.extend([param, param_seasonal, round(results.aic,2)])\n",
    "        except:\n",
    "            print('error')\n",
    "            continue\n",
    "            \n",
    "print('Done!')"
   ]
  },
  {
   "cell_type": "code",
   "execution_count": null,
   "metadata": {},
   "outputs": [],
   "source": [
    "print_result = zip(*[iter(result_list)] * 3) \n",
    "print_result.sort(key=lambda x: x[2])\n",
    "\n",
    "print('Result summary:\\n')\n",
    "print('((p, d, q), (P, D, Q, S), AIC)')\n",
    "print('------------------------------')\n",
    "for item in print_result:\n",
    "    print item"
   ]
  },
  {
   "cell_type": "code",
   "execution_count": null,
   "metadata": {},
   "outputs": [],
   "source": []
  }
 ],
 "metadata": {
  "kernelspec": {
   "display_name": "Python 3",
   "language": "python",
   "name": "python3"
  },
  "language_info": {
   "codemirror_mode": {
    "name": "ipython",
    "version": 3
   },
   "file_extension": ".py",
   "mimetype": "text/x-python",
   "name": "python",
   "nbconvert_exporter": "python",
   "pygments_lexer": "ipython3",
   "version": "3.6.6"
  }
 },
 "nbformat": 4,
 "nbformat_minor": 2
}
