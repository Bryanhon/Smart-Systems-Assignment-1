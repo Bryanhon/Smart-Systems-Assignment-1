{
 "cells": [
  {
   "cell_type": "markdown",
   "metadata": {},
   "source": [
    "# Assignment 1: Time Series Forecast With Python (Seasonal ARIMA)\n",
    "\n",
    "**Lecturer**: Vincent Claes<br>\n",
    "**Authors:** Bryan Honof, Jeffrey Gorissen<br>\n",
    "**Start Date:** 19/10/2018\n",
    "    \n",
    "**Objective:** Visualize and predict the future temperatures via ARIMA\n",
    "\n",
    "**Description:** In this notebook we train our model"
   ]
  },
  {
   "cell_type": "code",
   "execution_count": 1,
   "metadata": {},
   "outputs": [],
   "source": [
    "import warnings\n",
    "\n",
    "warnings.filterwarnings(\"ignore\") # specify to ignore warning messages\n",
    "\n",
    "import pandas as pd\n",
    "import matplotlib.pyplot as plt\n",
    "import itertools as it\n",
    "import datetime\n",
    "import math\n",
    "\n",
    "import statsmodels.api as sm"
   ]
  },
  {
   "cell_type": "code",
   "execution_count": 2,
   "metadata": {},
   "outputs": [
    {
     "name": "stdout",
     "output_type": "stream",
     "text": [
      "<class 'pandas.core.frame.DataFrame'>\n",
      "DatetimeIndex: 760 entries, 2018-11-10 23:30:00 to 2018-11-18 21:15:00\n",
      "Data columns (total 1 columns):\n",
      "temperature    760 non-null float64\n",
      "dtypes: float64(1)\n",
      "memory usage: 11.9 KB\n"
     ]
    }
   ],
   "source": [
    "data_csv = pd.read_csv('data.csv')\n",
    "data = pd.DataFrame()\n",
    "\n",
    "# Convert the creation_date column to datetime64\n",
    "data['dateTime'] = pd.to_datetime(data_csv['dateTime'])\n",
    "# Convert the value column to float\n",
    "data['temperature'] = pd.to_numeric(data_csv['temperature'])\n",
    "\n",
    "# Set the dateTime column as index\n",
    "data = data.set_index(['dateTime'])\n",
    "\n",
    "# Sort the dataFrame just to be sure...\n",
    "data = data.sort_index()\n",
    "\n",
    "# Double check the results\n",
    "data.info()"
   ]
  },
  {
   "cell_type": "code",
   "execution_count": 3,
   "metadata": {},
   "outputs": [
    {
     "data": {
      "text/html": [
       "<div>\n",
       "<style scoped>\n",
       "    .dataframe tbody tr th:only-of-type {\n",
       "        vertical-align: middle;\n",
       "    }\n",
       "\n",
       "    .dataframe tbody tr th {\n",
       "        vertical-align: top;\n",
       "    }\n",
       "\n",
       "    .dataframe thead th {\n",
       "        text-align: right;\n",
       "    }\n",
       "</style>\n",
       "<table border=\"1\" class=\"dataframe\">\n",
       "  <thead>\n",
       "    <tr style=\"text-align: right;\">\n",
       "      <th></th>\n",
       "      <th>temperature</th>\n",
       "    </tr>\n",
       "    <tr>\n",
       "      <th>dateTime</th>\n",
       "      <th></th>\n",
       "    </tr>\n",
       "  </thead>\n",
       "  <tbody>\n",
       "    <tr>\n",
       "      <th>2018-11-18 20:15:00</th>\n",
       "      <td>16.07</td>\n",
       "    </tr>\n",
       "    <tr>\n",
       "      <th>2018-11-18 20:30:00</th>\n",
       "      <td>15.36</td>\n",
       "    </tr>\n",
       "    <tr>\n",
       "      <th>2018-11-18 20:45:00</th>\n",
       "      <td>15.44</td>\n",
       "    </tr>\n",
       "    <tr>\n",
       "      <th>2018-11-18 21:00:00</th>\n",
       "      <td>16.07</td>\n",
       "    </tr>\n",
       "    <tr>\n",
       "      <th>2018-11-18 21:15:00</th>\n",
       "      <td>15.57</td>\n",
       "    </tr>\n",
       "  </tbody>\n",
       "</table>\n",
       "</div>"
      ],
      "text/plain": [
       "                     temperature\n",
       "dateTime                        \n",
       "2018-11-18 20:15:00        16.07\n",
       "2018-11-18 20:30:00        15.36\n",
       "2018-11-18 20:45:00        15.44\n",
       "2018-11-18 21:00:00        16.07\n",
       "2018-11-18 21:15:00        15.57"
      ]
     },
     "execution_count": 3,
     "metadata": {},
     "output_type": "execute_result"
    }
   ],
   "source": [
    "data.tail()"
   ]
  },
  {
   "cell_type": "code",
   "execution_count": 4,
   "metadata": {},
   "outputs": [
    {
     "name": "stdout",
     "output_type": "stream",
     "text": [
      "[(0, 0, 0), (0, 0, 1), (0, 1, 0), (0, 1, 1), (1, 0, 0), (1, 0, 1), (1, 1, 0), (1, 1, 1)]\n",
      "Examples of parameter combinations for Seasonal ARIMA...\n",
      "SARIMAX: (0, 0, 1) x (0, 0, 1, 15)\n",
      "SARIMAX: (0, 0, 1) x (0, 1, 0, 15)\n",
      "SARIMAX: (0, 1, 0) x (0, 1, 1, 15)\n",
      "SARIMAX: (0, 1, 0) x (1, 0, 0, 15)\n"
     ]
    }
   ],
   "source": [
    "# Tune Seasonal ARIMA model\n",
    "# Define the p, d and q parameters to take any value between 0 and 2\n",
    "p = d = q = range(0,2)\n",
    "\n",
    "# Generate all different combinations of p, q and q triplets\n",
    "pdq = list(it.product(p, d, q))\n",
    "print(pdq)\n",
    "\n",
    "# Generate all different combinations of seasonal p, q and q triplets\n",
    "# Seasonality is one week (24*7 = 168 hours)\n",
    "seasonal_pdq = [(x[0], x[1], x[2], 15) for x in list(it.product(p, d, q))]\n",
    "\n",
    "print('Examples of parameter combinations for Seasonal ARIMA...')\n",
    "print('SARIMAX: {} x {}'.format(pdq[1], seasonal_pdq[1]))\n",
    "print('SARIMAX: {} x {}'.format(pdq[1], seasonal_pdq[2]))\n",
    "print('SARIMAX: {} x {}'.format(pdq[2], seasonal_pdq[3]))\n",
    "print('SARIMAX: {} x {}'.format(pdq[2], seasonal_pdq[4]))"
   ]
  },
  {
   "cell_type": "code",
   "execution_count": 5,
   "metadata": {},
   "outputs": [
    {
     "name": "stdout",
     "output_type": "stream",
     "text": [
      "ARIMA(0, 0, 0)x(0, 0, 0, 15) - AIC:6592.6\n",
      "ARIMA(0, 0, 0)x(0, 0, 1, 15) - AIC:5568.19\n",
      "ARIMA(0, 0, 0)x(0, 1, 0, 15) - AIC:2929.69\n",
      "ARIMA(0, 0, 0)x(0, 1, 1, 15) - AIC:2702.88\n",
      "ARIMA(0, 0, 0)x(1, 0, 0, 15) - AIC:2929.52\n"
     ]
    },
    {
     "name": "stderr",
     "output_type": "stream",
     "text": [
      "/home/bryan/.conda/envs/pxl/lib/python3.6/site-packages/statsmodels/base/model.py:508: ConvergenceWarning: Maximum Likelihood optimization failed to converge. Check mle_retvals\n",
      "  \"Check mle_retvals\", ConvergenceWarning)\n"
     ]
    },
    {
     "name": "stdout",
     "output_type": "stream",
     "text": [
      "ARIMA(0, 0, 0)x(1, 0, 1, 15) - AIC:2706.31\n",
      "ARIMA(0, 0, 0)x(1, 1, 0, 15) - AIC:2809.92\n",
      "ARIMA(0, 0, 0)x(1, 1, 1, 15) - AIC:2675.8\n",
      "ARIMA(0, 0, 1)x(0, 0, 0, 15) - AIC:5623.2\n",
      "ARIMA(0, 0, 1)x(0, 0, 1, 15) - AIC:4853.17\n",
      "ARIMA(0, 0, 1)x(0, 1, 0, 15) - AIC:2782.54\n",
      "ARIMA(0, 0, 1)x(0, 1, 1, 15) - AIC:2458.93\n",
      "ARIMA(0, 0, 1)x(1, 0, 0, 15) - AIC:2784.66\n",
      "ARIMA(0, 0, 1)x(1, 0, 1, 15) - AIC:2782.39\n",
      "ARIMA(0, 0, 1)x(1, 1, 0, 15) - AIC:2612.79\n",
      "ARIMA(0, 0, 1)x(1, 1, 1, 15) - AIC:2460.51\n",
      "ARIMA(0, 1, 0)x(0, 0, 0, 15) - AIC:2393.32\n",
      "ARIMA(0, 1, 0)x(0, 0, 1, 15) - AIC:2343.32\n",
      "ARIMA(0, 1, 0)x(0, 1, 0, 15) - AIC:2867.97\n",
      "ARIMA(0, 1, 0)x(0, 1, 1, 15) - AIC:2324.94\n",
      "ARIMA(0, 1, 0)x(1, 0, 0, 15) - AIC:2345.43\n",
      "ARIMA(0, 1, 0)x(1, 0, 1, 15) - AIC:2343.16\n",
      "ARIMA(0, 1, 0)x(1, 1, 0, 15) - AIC:2556.29\n",
      "ARIMA(0, 1, 0)x(1, 1, 1, 15) - AIC:2336.39\n",
      "ARIMA(0, 1, 1)x(0, 0, 0, 15) - AIC:2092.84\n",
      "ARIMA(0, 1, 1)x(0, 0, 1, 15) - AIC:2042.54\n",
      "ARIMA(0, 1, 1)x(0, 1, 0, 15) - AIC:2564.74\n",
      "ARIMA(0, 1, 1)x(0, 1, 1, 15) - AIC:2042.74\n",
      "ARIMA(0, 1, 1)x(1, 0, 0, 15) - AIC:2046.95\n",
      "ARIMA(0, 1, 1)x(1, 0, 1, 15) - AIC:2043.21\n",
      "ARIMA(0, 1, 1)x(1, 1, 0, 15) - AIC:2281.61\n",
      "ARIMA(0, 1, 1)x(1, 1, 1, 15) - AIC:2050.86\n",
      "ARIMA(1, 0, 0)x(0, 0, 0, 15) - AIC:2397.35\n",
      "ARIMA(1, 0, 0)x(0, 0, 1, 15) - AIC:2346.5\n",
      "ARIMA(1, 0, 0)x(0, 1, 0, 15) - AIC:2677.7\n",
      "ARIMA(1, 0, 0)x(0, 1, 1, 15) - AIC:2232.05\n",
      "ARIMA(1, 0, 0)x(1, 0, 0, 15) - AIC:2346.47\n",
      "ARIMA(1, 0, 0)x(1, 0, 1, 15) - AIC:2259.3\n",
      "ARIMA(1, 0, 0)x(1, 1, 0, 15) - AIC:2424.33\n",
      "ARIMA(1, 0, 0)x(1, 1, 1, 15) - AIC:2240.65\n",
      "ARIMA(1, 0, 1)x(0, 0, 0, 15) - AIC:2096.6\n",
      "ARIMA(1, 0, 1)x(0, 0, 1, 15) - AIC:2047.16\n",
      "ARIMA(1, 0, 1)x(0, 1, 0, 15) - AIC:2542.07\n",
      "ARIMA(1, 0, 1)x(0, 1, 1, 15) - AIC:2040.22\n",
      "ARIMA(1, 0, 1)x(1, 0, 0, 15) - AIC:2049.29\n",
      "ARIMA(1, 0, 1)x(1, 0, 1, 15) - AIC:2055.35\n",
      "ARIMA(1, 0, 1)x(1, 1, 0, 15) - AIC:2265.59\n",
      "ARIMA(1, 0, 1)x(1, 1, 1, 15) - AIC:2050.24\n",
      "ARIMA(1, 1, 0)x(0, 0, 0, 15) - AIC:2181.52\n",
      "ARIMA(1, 1, 0)x(0, 0, 1, 15) - AIC:2133.37\n",
      "ARIMA(1, 1, 0)x(0, 1, 0, 15) - AIC:2648.41\n",
      "ARIMA(1, 1, 0)x(0, 1, 1, 15) - AIC:2135.1\n",
      "ARIMA(1, 1, 0)x(1, 0, 0, 15) - AIC:2133.43\n",
      "ARIMA(1, 1, 0)x(1, 0, 1, 15) - AIC:2134.57\n",
      "ARIMA(1, 1, 0)x(1, 1, 0, 15) - AIC:2355.44\n",
      "ARIMA(1, 1, 0)x(1, 1, 1, 15) - AIC:2144.34\n",
      "ARIMA(1, 1, 1)x(0, 0, 0, 15) - AIC:2090.07\n",
      "ARIMA(1, 1, 1)x(0, 0, 1, 15) - AIC:2039.23\n",
      "ARIMA(1, 1, 1)x(0, 1, 0, 15) - AIC:2558.01\n",
      "ARIMA(1, 1, 1)x(0, 1, 1, 15) - AIC:2041.22\n",
      "ARIMA(1, 1, 1)x(1, 0, 0, 15) - AIC:2042.08\n",
      "ARIMA(1, 1, 1)x(1, 0, 1, 15) - AIC:2040.0\n",
      "ARIMA(1, 1, 1)x(1, 1, 0, 15) - AIC:2274.6\n",
      "ARIMA(1, 1, 1)x(1, 1, 1, 15) - AIC:2040.89\n",
      "Done!\n"
     ]
    }
   ],
   "source": [
    "train = data\n",
    "\n",
    "train.index = pd.DatetimeIndex(train.index.values,\n",
    "                               freq='15T')\n",
    "\n",
    "result_list = []\n",
    "\n",
    "for param in pdq:\n",
    "    for param_seasonal in seasonal_pdq:\n",
    "        try:\n",
    "            mod = sm.tsa.statespace.SARIMAX(data,\n",
    "                                            \n",
    "                                            order=param,\n",
    "                                            seasonal_order=param_seasonal,\n",
    "                                            enforce_stationarity=False,\n",
    "                                            enforce_invertibility=False)\n",
    "            results = mod.fit(maxiter=2000)\n",
    "\n",
    "            print('ARIMA{}x{} - AIC:{}'.format(param, param_seasonal, round(results.aic,2)))\n",
    "            result_list.extend([param, param_seasonal, round(results.aic,2)])\n",
    "        except:\n",
    "            print('error')\n",
    "            continue\n",
    "            \n",
    "print('Done!')"
   ]
  },
  {
   "cell_type": "code",
   "execution_count": 9,
   "metadata": {},
   "outputs": [
    {
     "name": "stdout",
     "output_type": "stream",
     "text": [
      "Result summary:\n",
      "\n",
      "((p, d, q), (P, D, Q, S), AIC)\n",
      "------------------------------\n",
      "((0, 0, 0), (0, 0, 0, 15), 6592.6)\n",
      "((0, 0, 1), (0, 0, 0, 15), 5623.2)\n",
      "((0, 1, 0), (0, 0, 0, 15), 2393.32)\n",
      "((0, 1, 1), (0, 0, 0, 15), 2092.84)\n",
      "((1, 0, 0), (0, 0, 0, 15), 2397.35)\n",
      "((1, 0, 1), (0, 0, 0, 15), 2096.6)\n",
      "((1, 1, 0), (0, 0, 0, 15), 2181.52)\n",
      "((1, 1, 1), (0, 0, 0, 15), 2090.07)\n",
      "((0, 0, 0), (0, 0, 1, 15), 5568.19)\n",
      "((0, 0, 1), (0, 0, 1, 15), 4853.17)\n",
      "((0, 1, 0), (0, 0, 1, 15), 2343.32)\n",
      "((0, 1, 1), (0, 0, 1, 15), 2042.54)\n",
      "((1, 0, 0), (0, 0, 1, 15), 2346.5)\n",
      "((1, 0, 1), (0, 0, 1, 15), 2047.16)\n",
      "((1, 1, 0), (0, 0, 1, 15), 2133.37)\n",
      "((1, 1, 1), (0, 0, 1, 15), 2039.23)\n",
      "((0, 0, 0), (0, 1, 0, 15), 2929.69)\n",
      "((0, 0, 1), (0, 1, 0, 15), 2782.54)\n",
      "((0, 1, 0), (0, 1, 0, 15), 2867.97)\n",
      "((0, 1, 1), (0, 1, 0, 15), 2564.74)\n",
      "((1, 0, 0), (0, 1, 0, 15), 2677.7)\n",
      "((1, 0, 1), (0, 1, 0, 15), 2542.07)\n",
      "((1, 1, 0), (0, 1, 0, 15), 2648.41)\n",
      "((1, 1, 1), (0, 1, 0, 15), 2558.01)\n",
      "((0, 0, 0), (0, 1, 1, 15), 2702.88)\n",
      "((0, 0, 1), (0, 1, 1, 15), 2458.93)\n",
      "((0, 1, 0), (0, 1, 1, 15), 2324.94)\n",
      "((0, 1, 1), (0, 1, 1, 15), 2042.74)\n",
      "((1, 0, 0), (0, 1, 1, 15), 2232.05)\n",
      "((1, 0, 1), (0, 1, 1, 15), 2040.22)\n",
      "((1, 1, 0), (0, 1, 1, 15), 2135.1)\n",
      "((1, 1, 1), (0, 1, 1, 15), 2041.22)\n",
      "((0, 0, 0), (1, 0, 0, 15), 2929.52)\n",
      "((0, 0, 1), (1, 0, 0, 15), 2784.66)\n",
      "((0, 1, 0), (1, 0, 0, 15), 2345.43)\n",
      "((0, 1, 1), (1, 0, 0, 15), 2046.95)\n",
      "((1, 0, 0), (1, 0, 0, 15), 2346.47)\n",
      "((1, 0, 1), (1, 0, 0, 15), 2049.29)\n",
      "((1, 1, 0), (1, 0, 0, 15), 2133.43)\n",
      "((1, 1, 1), (1, 0, 0, 15), 2042.08)\n",
      "((0, 0, 0), (1, 0, 1, 15), 2706.31)\n",
      "((0, 0, 1), (1, 0, 1, 15), 2782.39)\n",
      "((0, 1, 0), (1, 0, 1, 15), 2343.16)\n",
      "((0, 1, 1), (1, 0, 1, 15), 2043.21)\n",
      "((1, 0, 0), (1, 0, 1, 15), 2259.3)\n",
      "((1, 0, 1), (1, 0, 1, 15), 2055.35)\n",
      "((1, 1, 0), (1, 0, 1, 15), 2134.57)\n",
      "((1, 1, 1), (1, 0, 1, 15), 2040.0)\n",
      "((0, 0, 0), (1, 1, 0, 15), 2809.92)\n",
      "((0, 0, 1), (1, 1, 0, 15), 2612.79)\n",
      "((0, 1, 0), (1, 1, 0, 15), 2556.29)\n",
      "((0, 1, 1), (1, 1, 0, 15), 2281.61)\n",
      "((1, 0, 0), (1, 1, 0, 15), 2424.33)\n",
      "((1, 0, 1), (1, 1, 0, 15), 2265.59)\n",
      "((1, 1, 0), (1, 1, 0, 15), 2355.44)\n",
      "((1, 1, 1), (1, 1, 0, 15), 2274.6)\n",
      "((0, 0, 0), (1, 1, 1, 15), 2675.8)\n",
      "((0, 0, 1), (1, 1, 1, 15), 2460.51)\n",
      "((0, 1, 0), (1, 1, 1, 15), 2336.39)\n",
      "((0, 1, 1), (1, 1, 1, 15), 2050.86)\n",
      "((1, 0, 0), (1, 1, 1, 15), 2240.65)\n",
      "((1, 0, 1), (1, 1, 1, 15), 2050.24)\n",
      "((1, 1, 0), (1, 1, 1, 15), 2144.34)\n",
      "((1, 1, 1), (1, 1, 1, 15), 2040.89)\n"
     ]
    }
   ],
   "source": [
    "print_result = zip(*[iter(result_list)]*3) \n",
    "print_result = sorted(print_result, key=lambda x: x[1])\n",
    "\n",
    "print('Result summary:\\n')\n",
    "print('((p, d, q), (P, D, Q, S), AIC)')\n",
    "print('------------------------------')\n",
    "for item in print_result:\n",
    "    print(item)"
   ]
  },
  {
   "cell_type": "code",
   "execution_count": null,
   "metadata": {},
   "outputs": [],
   "source": []
  }
 ],
 "metadata": {
  "kernelspec": {
   "display_name": "Python 3",
   "language": "python",
   "name": "python3"
  },
  "language_info": {
   "codemirror_mode": {
    "name": "ipython",
    "version": 3
   },
   "file_extension": ".py",
   "mimetype": "text/x-python",
   "name": "python",
   "nbconvert_exporter": "python",
   "pygments_lexer": "ipython3",
   "version": "3.6.6"
  }
 },
 "nbformat": 4,
 "nbformat_minor": 2
}
