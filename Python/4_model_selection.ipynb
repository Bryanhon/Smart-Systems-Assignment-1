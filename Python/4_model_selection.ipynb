{
 "cells": [
  {
   "cell_type": "markdown",
   "metadata": {},
   "source": [
    "# Assignment 1: Time Series Forecast With Python (Seasonal ARIMA)\n",
    "\n",
    "**Lecturer**: Vincent Claes<br>\n",
    "**Authors:** Bryan Honof, Jeffrey Gorissen<br>\n",
    "**Start Date:** 19/10/2018\n",
    "    \n",
    "**Objective:** Visualize and predict the future temperatures via ARIMA\n",
    "\n",
    "**Description:** In this notebook we train our model"
   ]
  },
  {
   "cell_type": "code",
   "execution_count": 1,
   "metadata": {},
   "outputs": [],
   "source": [
    "import math\n",
    "import warnings\n",
    "import datetime\n",
    "\n",
    "import pandas            as pd\n",
    "import itertools         as it\n",
    "import statsmodels.api   as sm\n",
    "import matplotlib.pyplot as plt\n",
    "\n",
    "warnings.filterwarnings(\"ignore\") # specify to ignore warning messages"
   ]
  },
  {
   "cell_type": "code",
   "execution_count": 2,
   "metadata": {},
   "outputs": [
    {
     "name": "stdout",
     "output_type": "stream",
     "text": [
      "<class 'pandas.core.frame.DataFrame'>\n",
      "DatetimeIndex: 845 entries, 2018-11-11 03:00:00 to 2018-11-19 22:00:00\n",
      "Data columns (total 1 columns):\n",
      "temperature    845 non-null float64\n",
      "dtypes: float64(1)\n",
      "memory usage: 13.2 KB\n"
     ]
    }
   ],
   "source": [
    "data_csv = pd.read_csv('./data/rolmean_data.csv')\n",
    "data = pd.DataFrame()\n",
    "\n",
    "# Convert the creation_date column to datetime64\n",
    "data['dateTime'] = pd.to_datetime(data_csv['dateTime'])\n",
    "# Convert the value column to float\n",
    "data['temperature'] = pd.to_numeric(data_csv['temperature'])\n",
    "\n",
    "# Set the dateTime column as index\n",
    "data = data.set_index(['dateTime'])\n",
    "\n",
    "# Sort the dataFrame just to be sure...\n",
    "data = data.sort_index()\n",
    "\n",
    "data = data.dropna()\n",
    "\n",
    "# Double check the results\n",
    "data.info()"
   ]
  },
  {
   "cell_type": "code",
   "execution_count": 3,
   "metadata": {
    "scrolled": false
   },
   "outputs": [
    {
     "data": {
      "text/html": [
       "<div>\n",
       "<style scoped>\n",
       "    .dataframe tbody tr th:only-of-type {\n",
       "        vertical-align: middle;\n",
       "    }\n",
       "\n",
       "    .dataframe tbody tr th {\n",
       "        vertical-align: top;\n",
       "    }\n",
       "\n",
       "    .dataframe thead th {\n",
       "        text-align: right;\n",
       "    }\n",
       "</style>\n",
       "<table border=\"1\" class=\"dataframe\">\n",
       "  <thead>\n",
       "    <tr style=\"text-align: right;\">\n",
       "      <th></th>\n",
       "      <th>temperature</th>\n",
       "    </tr>\n",
       "    <tr>\n",
       "      <th>dateTime</th>\n",
       "      <th></th>\n",
       "    </tr>\n",
       "  </thead>\n",
       "  <tbody>\n",
       "    <tr>\n",
       "      <th>2018-11-19 21:00:00</th>\n",
       "      <td>16.77</td>\n",
       "    </tr>\n",
       "    <tr>\n",
       "      <th>2018-11-19 21:15:00</th>\n",
       "      <td>16.89</td>\n",
       "    </tr>\n",
       "    <tr>\n",
       "      <th>2018-11-19 21:30:00</th>\n",
       "      <td>17.05</td>\n",
       "    </tr>\n",
       "    <tr>\n",
       "      <th>2018-11-19 21:45:00</th>\n",
       "      <td>17.17</td>\n",
       "    </tr>\n",
       "    <tr>\n",
       "      <th>2018-11-19 22:00:00</th>\n",
       "      <td>17.24</td>\n",
       "    </tr>\n",
       "  </tbody>\n",
       "</table>\n",
       "</div>"
      ],
      "text/plain": [
       "                     temperature\n",
       "dateTime                        \n",
       "2018-11-19 21:00:00        16.77\n",
       "2018-11-19 21:15:00        16.89\n",
       "2018-11-19 21:30:00        17.05\n",
       "2018-11-19 21:45:00        17.17\n",
       "2018-11-19 22:00:00        17.24"
      ]
     },
     "execution_count": 3,
     "metadata": {},
     "output_type": "execute_result"
    }
   ],
   "source": [
    "data.tail(5)"
   ]
  },
  {
   "cell_type": "markdown",
   "metadata": {},
   "source": [
    "## Search for best parameters\n",
    "\n",
    "\n",
    "```p``` is the auto-regressive part of the model. It allows us to incorporate the effect of past values into our model. Intuitively, this would be similar to stating that it is likely to be warm tomorrow if it has been warm the past 3 days.<br>\n",
    "```d``` is the integrated part of the model. This includes terms in the model that incorporate the amount of differencing (i.e. the number of past time points to subtract from the current value) to apply to the time series. Intuitively, this would be similar to stating that it is likely to be same temperature tomorrow if the difference in temperature in the last three days has been very small.<br>\n",
    "```q``` is the moving average part of the model. This allows us to set the error of our model as a linear combination of the error values observed at previous time points in the past."
   ]
  },
  {
   "cell_type": "code",
   "execution_count": 4,
   "metadata": {},
   "outputs": [
    {
     "name": "stdout",
     "output_type": "stream",
     "text": [
      "[(0, 0, 0), (0, 0, 1), (0, 1, 0), (0, 1, 1), (1, 0, 0), (1, 0, 1), (1, 1, 0), (1, 1, 1)]\n",
      "Examples of parameter combinations for Seasonal ARIMA...\n",
      "SARIMAX: (0, 0, 1) x (0, 0, 1, 4)\n",
      "SARIMAX: (0, 0, 1) x (0, 1, 0, 4)\n",
      "SARIMAX: (0, 1, 0) x (0, 1, 1, 4)\n",
      "SARIMAX: (0, 1, 0) x (1, 0, 0, 4)\n"
     ]
    }
   ],
   "source": [
    "# Tune Seasonal ARIMA model\n",
    "# Define the p, d and q parameters to take any value between 0 and 2\n",
    "p = d = q = range(0,2)\n",
    "\n",
    "# Generate all different combinations of p, q and q triplets\n",
    "pdq = list(it.product(p, d, q))\n",
    "print(pdq)\n",
    "\n",
    "# Generate all different combinations of seasonal p, q and q triplets\n",
    "seasonal_pdq = [(x[0], x[1], x[2], 96) for x in list(it.product(p, d, q))]\n",
    "\n",
    "print('Examples of parameter combinations for Seasonal ARIMA...')\n",
    "print('SARIMAX: {} x {}'.format(pdq[1], seasonal_pdq[1]))\n",
    "print('SARIMAX: {} x {}'.format(pdq[1], seasonal_pdq[2]))\n",
    "print('SARIMAX: {} x {}'.format(pdq[2], seasonal_pdq[3]))\n",
    "print('SARIMAX: {} x {}'.format(pdq[2], seasonal_pdq[4]))"
   ]
  },
  {
   "cell_type": "code",
   "execution_count": 5,
   "metadata": {
    "scrolled": true
   },
   "outputs": [
    {
     "name": "stdout",
     "output_type": "stream",
     "text": [
      "ARIMA(0, 0, 0)x(0, 0, 0, 4) - AIC:7299.49\n",
      "ARIMA(0, 0, 0)x(0, 0, 1, 4) - AIC:6128.16\n",
      "ARIMA(0, 0, 0)x(0, 1, 0, 4) - AIC:723.58\n",
      "ARIMA(0, 0, 0)x(0, 1, 1, 4) - AIC:312.84\n",
      "ARIMA(0, 0, 0)x(1, 0, 0, 4) - AIC:724.95\n",
      "ARIMA(0, 0, 0)x(1, 0, 1, 4) - AIC:328.79\n",
      "ARIMA(0, 0, 0)x(1, 1, 0, 4) - AIC:147.92\n",
      "ARIMA(0, 0, 0)x(1, 1, 1, 4) - AIC:136.28\n",
      "ARIMA(0, 0, 1)x(0, 0, 0, 4) - AIC:6137.2\n",
      "ARIMA(0, 0, 1)x(0, 0, 1, 4) - AIC:4974.86\n",
      "ARIMA(0, 0, 1)x(0, 1, 0, 4) - AIC:-303.87\n",
      "ARIMA(0, 0, 1)x(0, 1, 1, 4) - AIC:-538.08\n",
      "ARIMA(0, 0, 1)x(1, 0, 0, 4) - AIC:-300.6\n",
      "ARIMA(0, 0, 1)x(1, 0, 1, 4) - AIC:-528.72\n",
      "ARIMA(0, 0, 1)x(1, 1, 0, 4) - AIC:-655.02\n",
      "ARIMA(0, 0, 1)x(1, 1, 1, 4) - AIC:-653.79\n",
      "ARIMA(0, 1, 0)x(0, 0, 0, 4) - AIC:-1266.24\n",
      "ARIMA(0, 1, 0)x(0, 0, 1, 4) - AIC:-1390.54\n",
      "ARIMA(0, 1, 0)x(0, 1, 0, 4) - AIC:-1188.36\n",
      "ARIMA(0, 1, 0)x(0, 1, 1, 4) - AIC:-1317.44\n",
      "ARIMA(0, 1, 0)x(1, 0, 0, 4) - AIC:-1454.66\n",
      "ARIMA(0, 1, 0)x(1, 0, 1, 4) - AIC:-1462.57\n",
      "ARIMA(0, 1, 0)x(1, 1, 0, 4) - AIC:-1309.76\n",
      "ARIMA(0, 1, 0)x(1, 1, 1, 4) - AIC:-1422.86\n",
      "ARIMA(0, 1, 1)x(0, 0, 0, 4) - AIC:-1441.03\n",
      "ARIMA(0, 1, 1)x(0, 0, 1, 4) - AIC:-1483.26\n",
      "ARIMA(0, 1, 1)x(0, 1, 0, 4) - AIC:-1191.69\n",
      "ARIMA(0, 1, 1)x(0, 1, 1, 4) - AIC:-1405.04\n",
      "ARIMA(0, 1, 1)x(1, 0, 0, 4) - AIC:-1510.3\n",
      "ARIMA(0, 1, 1)x(1, 0, 1, 4) - AIC:-1523.48\n",
      "ARIMA(0, 1, 1)x(1, 1, 0, 4) - AIC:-1361.15\n",
      "ARIMA(0, 1, 1)x(1, 1, 1, 4) - AIC:-1477.56\n",
      "ARIMA(1, 0, 0)x(0, 0, 0, 4) - AIC:-1266.76\n",
      "ARIMA(1, 0, 0)x(0, 0, 1, 4) - AIC:-1386.12\n",
      "ARIMA(1, 0, 0)x(0, 1, 0, 4) - AIC:-1208.92\n",
      "ARIMA(1, 0, 0)x(0, 1, 1, 4) - AIC:-1191.89\n",
      "ARIMA(1, 0, 0)x(1, 0, 0, 4) - AIC:-1452.87\n",
      "ARIMA(1, 0, 0)x(1, 0, 1, 4) - AIC:-1426.33\n",
      "ARIMA(1, 0, 0)x(1, 1, 0, 4) - AIC:-1319.65\n",
      "ARIMA(1, 0, 0)x(1, 1, 1, 4) - AIC:-1421.12\n",
      "ARIMA(1, 0, 1)x(0, 0, 0, 4) - AIC:-1442.16\n",
      "ARIMA(1, 0, 1)x(0, 0, 1, 4) - AIC:-1482.77\n",
      "ARIMA(1, 0, 1)x(0, 1, 0, 4) - AIC:-1217.86\n",
      "ARIMA(1, 0, 1)x(0, 1, 1, 4) - AIC:-1202.12\n",
      "ARIMA(1, 0, 1)x(1, 0, 0, 4) - AIC:-1508.59\n",
      "ARIMA(1, 0, 1)x(1, 0, 1, 4) - AIC:-1523.11\n",
      "ARIMA(1, 0, 1)x(1, 1, 0, 4) - AIC:-1374.2\n",
      "ARIMA(1, 0, 1)x(1, 1, 1, 4) - AIC:-1478.94\n",
      "ARIMA(1, 1, 0)x(0, 0, 0, 4) - AIC:-1575.38\n",
      "ARIMA(1, 1, 0)x(0, 0, 1, 4) - AIC:-1571.05\n",
      "ARIMA(1, 1, 0)x(0, 1, 0, 4) - AIC:-1195.69\n",
      "ARIMA(1, 1, 0)x(0, 1, 1, 4) - AIC:-1542.88\n",
      "ARIMA(1, 1, 0)x(1, 0, 0, 4) - AIC:-1573.23\n",
      "ARIMA(1, 1, 0)x(1, 0, 1, 4) - AIC:-1584.62\n",
      "ARIMA(1, 1, 0)x(1, 1, 0, 4) - AIC:-1393.51\n",
      "ARIMA(1, 1, 0)x(1, 1, 1, 4) - AIC:-1541.9\n",
      "ARIMA(1, 1, 1)x(0, 0, 0, 4) - AIC:-1720.47\n",
      "ARIMA(1, 1, 1)x(0, 0, 1, 4) - AIC:-1710.71\n",
      "ARIMA(1, 1, 1)x(0, 1, 0, 4) - AIC:-1205.17\n",
      "ARIMA(1, 1, 1)x(0, 1, 1, 4) - AIC:-1689.04\n",
      "ARIMA(1, 1, 1)x(1, 0, 0, 4) - AIC:-1713.52\n",
      "ARIMA(1, 1, 1)x(1, 0, 1, 4) - AIC:-1709.01\n",
      "ARIMA(1, 1, 1)x(1, 1, 0, 4) - AIC:-1463.44\n",
      "ARIMA(1, 1, 1)x(1, 1, 1, 4) - AIC:-1687.04\n",
      "Done!\n"
     ]
    }
   ],
   "source": [
    "result_list = []\n",
    "AIC         = []\n",
    "parm_       = []\n",
    "parm_s      = []\n",
    "\n",
    "for param in pdq:\n",
    "    for param_seasonal in seasonal_pdq:\n",
    "        try:\n",
    "            mod = sm.tsa.statespace.SARIMAX(data,\n",
    "                                            order=param,\n",
    "                                            seasonal_order=param_seasonal,\n",
    "                                            enforce_stationarity=False,\n",
    "                                            enforce_invertibility=False)\n",
    "            results = mod.fit()\n",
    "            AIC.append(results.aic)\n",
    "            parm_.append(param)\n",
    "            parm_s.append(param_seasonal)\n",
    "            \n",
    "            print('ARIMA{}x{} - AIC:{}'.format(param, param_seasonal, round(results.aic,2)))\n",
    "            result_list.extend([param, param_seasonal, round(results.aic,2)])\n",
    "        except:\n",
    "            print('error')\n",
    "            continue\n",
    "            \n",
    "print('Done!')"
   ]
  },
  {
   "cell_type": "code",
   "execution_count": 6,
   "metadata": {},
   "outputs": [
    {
     "name": "stdout",
     "output_type": "stream",
     "text": [
      "(1, 1, 1) (0, 0, 0, 4) -1720.4721632496312\n"
     ]
    }
   ],
   "source": [
    "min(AIC)\n",
    "pos = AIC.index(min(AIC))\n",
    "print(parm_[pos], parm_s[pos], min(AIC))"
   ]
  },
  {
   "cell_type": "markdown",
   "metadata": {},
   "source": [
    "[next notebook](./5_fitting_and_predicting.ipynb)"
   ]
  }
 ],
 "metadata": {
  "kernelspec": {
   "display_name": "Python 3",
   "language": "python",
   "name": "python3"
  },
  "language_info": {
   "codemirror_mode": {
    "name": "ipython",
    "version": 3
   },
   "file_extension": ".py",
   "mimetype": "text/x-python",
   "name": "python",
   "nbconvert_exporter": "python",
   "pygments_lexer": "ipython3",
   "version": "3.6.6"
  }
 },
 "nbformat": 4,
 "nbformat_minor": 2
}
