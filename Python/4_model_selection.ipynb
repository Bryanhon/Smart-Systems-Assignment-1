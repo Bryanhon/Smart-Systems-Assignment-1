{
 "cells": [
  {
   "cell_type": "markdown",
   "metadata": {},
   "source": [
    "# Assignment 1: Time Series Forecast With Python (Seasonal ARIMA)\n",
    "\n",
    "**Lecturer**: Vincent Claes<br>\n",
    "**Authors:** Bryan Honof, Jeffrey Gorissen<br>\n",
    "**Start Date:** 19/10/2018\n",
    "    \n",
    "**Objective:** Visualize and predict the future temperatures via ARIMA\n",
    "\n",
    "**Description:** In this notebook we train our model"
   ]
  },
  {
   "cell_type": "code",
   "execution_count": 1,
   "metadata": {},
   "outputs": [],
   "source": [
    "import math\n",
    "import warnings\n",
    "import datetime\n",
    "\n",
    "import pandas            as pd\n",
    "import itertools         as it\n",
    "import statsmodels.api   as sm\n",
    "import matplotlib.pyplot as plt\n",
    "\n",
    "warnings.filterwarnings(\"ignore\") # specify to ignore warning messages"
   ]
  },
  {
   "cell_type": "code",
   "execution_count": 2,
   "metadata": {},
   "outputs": [
    {
     "name": "stdout",
     "output_type": "stream",
     "text": [
      "<class 'pandas.core.frame.DataFrame'>\n",
      "DatetimeIndex: 834 entries, 2018-11-11 03:00:00 to 2018-11-19 19:15:00\n",
      "Data columns (total 1 columns):\n",
      "temperature    834 non-null float64\n",
      "dtypes: float64(1)\n",
      "memory usage: 13.0 KB\n"
     ]
    }
   ],
   "source": [
    "data_csv = pd.read_csv('./data/rolmean_data.csv')\n",
    "data = pd.DataFrame()\n",
    "\n",
    "# Convert the creation_date column to datetime64\n",
    "data['dateTime'] = pd.to_datetime(data_csv['dateTime'])\n",
    "# Convert the value column to float\n",
    "data['temperature'] = pd.to_numeric(data_csv['temperature'])\n",
    "\n",
    "# Set the dateTime column as index\n",
    "data = data.set_index(['dateTime'])\n",
    "\n",
    "# Sort the dataFrame just to be sure...\n",
    "data = data.sort_index()\n",
    "\n",
    "data = data.dropna()\n",
    "\n",
    "# Double check the results\n",
    "data.info()"
   ]
  },
  {
   "cell_type": "code",
   "execution_count": 3,
   "metadata": {
    "scrolled": false
   },
   "outputs": [
    {
     "data": {
      "text/html": [
       "<div>\n",
       "<style scoped>\n",
       "    .dataframe tbody tr th:only-of-type {\n",
       "        vertical-align: middle;\n",
       "    }\n",
       "\n",
       "    .dataframe tbody tr th {\n",
       "        vertical-align: top;\n",
       "    }\n",
       "\n",
       "    .dataframe thead th {\n",
       "        text-align: right;\n",
       "    }\n",
       "</style>\n",
       "<table border=\"1\" class=\"dataframe\">\n",
       "  <thead>\n",
       "    <tr style=\"text-align: right;\">\n",
       "      <th></th>\n",
       "      <th>temperature</th>\n",
       "    </tr>\n",
       "    <tr>\n",
       "      <th>dateTime</th>\n",
       "      <th></th>\n",
       "    </tr>\n",
       "  </thead>\n",
       "  <tbody>\n",
       "    <tr>\n",
       "      <th>2018-11-19 18:15:00</th>\n",
       "      <td>16.81</td>\n",
       "    </tr>\n",
       "    <tr>\n",
       "      <th>2018-11-19 18:30:00</th>\n",
       "      <td>16.70</td>\n",
       "    </tr>\n",
       "    <tr>\n",
       "      <th>2018-11-19 18:45:00</th>\n",
       "      <td>16.52</td>\n",
       "    </tr>\n",
       "    <tr>\n",
       "      <th>2018-11-19 19:00:00</th>\n",
       "      <td>16.44</td>\n",
       "    </tr>\n",
       "    <tr>\n",
       "      <th>2018-11-19 19:15:00</th>\n",
       "      <td>16.48</td>\n",
       "    </tr>\n",
       "  </tbody>\n",
       "</table>\n",
       "</div>"
      ],
      "text/plain": [
       "                     temperature\n",
       "dateTime                        \n",
       "2018-11-19 18:15:00        16.81\n",
       "2018-11-19 18:30:00        16.70\n",
       "2018-11-19 18:45:00        16.52\n",
       "2018-11-19 19:00:00        16.44\n",
       "2018-11-19 19:15:00        16.48"
      ]
     },
     "execution_count": 3,
     "metadata": {},
     "output_type": "execute_result"
    }
   ],
   "source": [
    "data.tail(5)"
   ]
  },
  {
   "cell_type": "code",
   "execution_count": 4,
   "metadata": {},
   "outputs": [
    {
     "name": "stdout",
     "output_type": "stream",
     "text": [
      "[(0, 0, 0), (0, 0, 1), (0, 1, 0), (0, 1, 1), (1, 0, 0), (1, 0, 1), (1, 1, 0), (1, 1, 1)]\n",
      "Examples of parameter combinations for Seasonal ARIMA...\n",
      "SARIMAX: (0, 0, 1) x (0, 0, 1, 96)\n",
      "SARIMAX: (0, 0, 1) x (0, 1, 0, 96)\n",
      "SARIMAX: (0, 1, 0) x (0, 1, 1, 96)\n",
      "SARIMAX: (0, 1, 0) x (1, 0, 0, 96)\n"
     ]
    }
   ],
   "source": [
    "# Tune Seasonal ARIMA model\n",
    "# Define the p, d and q parameters to take any value between 0 and 2\n",
    "p = d = q = range(0,2)\n",
    "\n",
    "# Generate all different combinations of p, q and q triplets\n",
    "pdq = list(it.product(p, d, q))\n",
    "print(pdq)\n",
    "\n",
    "# Generate all different combinations of seasonal p, q and q triplets\n",
    "# Seasonality is one week (24*7 = 168 hours)\n",
    "seasonal_pdq = [(x[0], x[1], x[2], 96) for x in list(it.product(p, d, q))]\n",
    "\n",
    "print('Examples of parameter combinations for Seasonal ARIMA...')\n",
    "print('SARIMAX: {} x {}'.format(pdq[1], seasonal_pdq[1]))\n",
    "print('SARIMAX: {} x {}'.format(pdq[1], seasonal_pdq[2]))\n",
    "print('SARIMAX: {} x {}'.format(pdq[2], seasonal_pdq[3]))\n",
    "print('SARIMAX: {} x {}'.format(pdq[2], seasonal_pdq[4]))"
   ]
  },
  {
   "cell_type": "code",
   "execution_count": 5,
   "metadata": {},
   "outputs": [
    {
     "name": "stdout",
     "output_type": "stream",
     "text": [
      "ARIMA(0, 0, 0)x(0, 0, 0, 96) - AIC:7206.12\n",
      "ARIMA(0, 0, 0)x(0, 0, 1, 96) - AIC:5650.0\n",
      "ARIMA(0, 0, 0)x(0, 1, 0, 96) - AIC:2578.82\n",
      "ARIMA(0, 0, 0)x(0, 1, 1, 96) - AIC:2219.09\n",
      "ARIMA(0, 0, 0)x(1, 0, 0, 96) - AIC:2459.97\n",
      "ARIMA(0, 0, 0)x(1, 0, 1, 96) - AIC:2238.85\n",
      "ARIMA(0, 0, 0)x(1, 1, 0, 96) - AIC:2200.11\n",
      "ARIMA(0, 0, 0)x(1, 1, 1, 96) - AIC:2128.36\n",
      "ARIMA(0, 0, 1)x(0, 0, 0, 96) - AIC:6059.01\n",
      "ARIMA(0, 0, 1)x(0, 0, 1, 96) - AIC:4639.05\n",
      "ARIMA(0, 0, 1)x(0, 1, 0, 96) - AIC:1643.19\n",
      "ARIMA(0, 0, 1)x(0, 1, 1, 96) - AIC:1401.57\n",
      "ARIMA(0, 0, 1)x(1, 0, 0, 96) - AIC:1531.1\n",
      "ARIMA(0, 0, 1)x(1, 0, 1, 96) - AIC:1306.82\n",
      "ARIMA(0, 0, 1)x(1, 1, 0, 96) - AIC:1381.72\n",
      "ARIMA(0, 0, 1)x(1, 1, 1, 96) - AIC:1324.79\n",
      "ARIMA(0, 1, 0)x(0, 0, 0, 96) - AIC:-1247.57\n",
      "ARIMA(0, 1, 0)x(0, 0, 1, 96) - AIC:-1227.61\n",
      "ARIMA(0, 1, 0)x(0, 1, 0, 96) - AIC:-886.18\n",
      "ARIMA(0, 1, 0)x(0, 1, 1, 96) - AIC:-967.66\n",
      "ARIMA(0, 1, 0)x(1, 0, 0, 96) - AIC:-1231.65\n",
      "ARIMA(0, 1, 0)x(1, 0, 1, 96) - AIC:-1232.24\n",
      "ARIMA(0, 1, 0)x(1, 1, 0, 96) - AIC:-907.52\n",
      "ARIMA(0, 1, 0)x(1, 1, 1, 96) - AIC:-965.22\n",
      "ARIMA(0, 1, 1)x(0, 0, 0, 96) - AIC:-1419.16\n",
      "ARIMA(0, 1, 1)x(0, 0, 1, 96) - AIC:-1396.75\n",
      "ARIMA(0, 1, 1)x(0, 1, 0, 96) - AIC:-964.18\n",
      "ARIMA(0, 1, 1)x(0, 1, 1, 96) - AIC:-1077.28\n",
      "ARIMA(0, 1, 1)x(1, 0, 0, 96) - AIC:-1397.4\n",
      "ARIMA(0, 1, 1)x(1, 0, 1, 96) - AIC:-1396.61\n",
      "ARIMA(0, 1, 1)x(1, 1, 0, 96) - AIC:-1009.92\n",
      "ARIMA(0, 1, 1)x(1, 1, 1, 96) - AIC:-1091.97\n",
      "ARIMA(1, 0, 0)x(0, 0, 0, 96) - AIC:-1248.55\n",
      "ARIMA(1, 0, 0)x(0, 0, 1, 96) - AIC:-1215.06\n",
      "ARIMA(1, 0, 0)x(0, 1, 0, 96) - AIC:-884.83\n",
      "ARIMA(1, 0, 0)x(0, 1, 1, 96) - AIC:-967.98\n",
      "ARIMA(1, 0, 0)x(1, 0, 0, 96) - AIC:-1231.33\n",
      "ARIMA(1, 0, 0)x(1, 0, 1, 96) - AIC:-1232.34\n",
      "ARIMA(1, 0, 0)x(1, 1, 0, 96) - AIC:-906.82\n",
      "ARIMA(1, 0, 0)x(1, 1, 1, 96) - AIC:-964.0\n",
      "ARIMA(1, 0, 1)x(0, 0, 0, 96) - AIC:-1420.16\n",
      "ARIMA(1, 0, 1)x(0, 0, 1, 96) - AIC:-1396.26\n",
      "ARIMA(1, 0, 1)x(0, 1, 0, 96) - AIC:-966.39\n",
      "ARIMA(1, 0, 1)x(0, 1, 1, 96) - AIC:-1076.6\n",
      "ARIMA(1, 0, 1)x(1, 0, 0, 96) - AIC:-1396.71\n",
      "ARIMA(1, 0, 1)x(1, 0, 1, 96) - AIC:-1396.64\n",
      "ARIMA(1, 0, 1)x(1, 1, 0, 96) - AIC:-1009.87\n",
      "ARIMA(1, 0, 1)x(1, 1, 1, 96) - AIC:-1090.43\n",
      "ARIMA(1, 1, 0)x(0, 0, 0, 96) - AIC:-1551.11\n",
      "ARIMA(1, 1, 0)x(0, 0, 1, 96) - AIC:-1532.18\n",
      "ARIMA(1, 1, 0)x(0, 1, 0, 96) - AIC:-1007.09\n",
      "ARIMA(1, 1, 0)x(0, 1, 1, 96) - AIC:-1147.16\n",
      "ARIMA(1, 1, 0)x(1, 0, 0, 96) - AIC:-1531.31\n",
      "ARIMA(1, 1, 0)x(1, 0, 1, 96) - AIC:-1530.26\n",
      "ARIMA(1, 1, 0)x(1, 1, 0, 96) - AIC:-1067.36\n",
      "ARIMA(1, 1, 0)x(1, 1, 1, 96) - AIC:-1179.17\n",
      "ARIMA(1, 1, 1)x(0, 0, 0, 96) - AIC:-1695.38\n",
      "ARIMA(1, 1, 1)x(0, 0, 1, 96) - AIC:-1637.66\n",
      "ARIMA(1, 1, 1)x(0, 1, 0, 96) - AIC:-1080.17\n",
      "ARIMA(1, 1, 1)x(0, 1, 1, 96) - AIC:-1219.82\n",
      "ARIMA(1, 1, 1)x(1, 0, 0, 96) - AIC:-1640.4\n",
      "ARIMA(1, 1, 1)x(1, 0, 1, 96) - AIC:-1635.71\n",
      "ARIMA(1, 1, 1)x(1, 1, 0, 96) - AIC:-1126.61\n",
      "ARIMA(1, 1, 1)x(1, 1, 1, 96) - AIC:-1256.97\n",
      "Done!\n"
     ]
    }
   ],
   "source": [
    "result_list = []\n",
    "AIC         = []\n",
    "parm_       = []\n",
    "parm_s      = []\n",
    "\n",
    "for param in pdq:\n",
    "    for param_seasonal in seasonal_pdq:\n",
    "        try:\n",
    "            mod = sm.tsa.statespace.SARIMAX(data,\n",
    "                                            order=param,\n",
    "                                            seasonal_order=param_seasonal,\n",
    "                                            enforce_stationarity=False,\n",
    "                                            enforce_invertibility=False)\n",
    "            results = mod.fit()\n",
    "            AIC.append(results.aic)\n",
    "            parm_.append(param)\n",
    "            parm_s.append(param_seasonal)\n",
    "            \n",
    "            print('ARIMA{}x{} - AIC:{}'.format(param, param_seasonal, round(results.aic,2)))\n",
    "            result_list.extend([param, param_seasonal, round(results.aic,2)])\n",
    "        except:\n",
    "            print('error')\n",
    "            continue\n",
    "            \n",
    "print('Done!')"
   ]
  },
  {
   "cell_type": "code",
   "execution_count": 6,
   "metadata": {},
   "outputs": [
    {
     "name": "stdout",
     "output_type": "stream",
     "text": [
      "(1, 1, 1) (0, 0, 0, 96) -1695.3828175455367\n"
     ]
    }
   ],
   "source": [
    "min(AIC)\n",
    "pos = AIC.index(min(AIC))\n",
    "print(parm_[pos], parm_s[pos], min(AIC))"
   ]
  },
  {
   "cell_type": "markdown",
   "metadata": {},
   "source": [
    "[next notebook](./5_fitting_and_predicting.ipynb)"
   ]
  }
 ],
 "metadata": {
  "kernelspec": {
   "display_name": "Python 3",
   "language": "python",
   "name": "python3"
  },
  "language_info": {
   "codemirror_mode": {
    "name": "ipython",
    "version": 3
   },
   "file_extension": ".py",
   "mimetype": "text/x-python",
   "name": "python",
   "nbconvert_exporter": "python",
   "pygments_lexer": "ipython3",
   "version": "3.6.6"
  }
 },
 "nbformat": 4,
 "nbformat_minor": 2
}
