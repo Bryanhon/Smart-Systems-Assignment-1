{
 "cells": [
  {
   "cell_type": "markdown",
   "metadata": {},
   "source": [
    "# Assignment 1: Time Series Forecast With Python (Seasonal ARIMA)\n",
    "\n",
    "**Lecturer**: Vincent Claes<br>\n",
    "**Authors:** Bryan Honof, Jeffrey Gorissen<br>\n",
    "**Start Date:** 19/10/2018\n",
    "    \n",
    "**Objective:** Visualize and predict the future temperatures via ARIMA\n",
    "\n",
    "**Description:** In this notebook we train our model"
   ]
  },
  {
   "cell_type": "code",
   "execution_count": 1,
   "metadata": {},
   "outputs": [],
   "source": [
    "import math\n",
    "import warnings\n",
    "import datetime\n",
    "\n",
    "import pandas            as pd\n",
    "import itertools         as it\n",
    "import statsmodels.api   as sm\n",
    "import matplotlib.pyplot as plt\n",
    "\n",
    "warnings.filterwarnings(\"ignore\") # specify to ignore warning messages"
   ]
  },
  {
   "cell_type": "code",
   "execution_count": 2,
   "metadata": {},
   "outputs": [
    {
     "name": "stdout",
     "output_type": "stream",
     "text": [
      "<class 'pandas.core.frame.DataFrame'>\n",
      "DatetimeIndex: 828 entries, 2018-11-11 03:00:00 to 2018-11-19 17:45:00\n",
      "Data columns (total 1 columns):\n",
      "temperature    828 non-null float64\n",
      "dtypes: float64(1)\n",
      "memory usage: 12.9 KB\n"
     ]
    }
   ],
   "source": [
    "data_csv = pd.read_csv('./data/rolmean_data.csv')\n",
    "data = pd.DataFrame()\n",
    "\n",
    "# Convert the creation_date column to datetime64\n",
    "data['dateTime'] = pd.to_datetime(data_csv['dateTime'])\n",
    "# Convert the value column to float\n",
    "data['temperature'] = pd.to_numeric(data_csv['temperature'])\n",
    "\n",
    "# Set the dateTime column as index\n",
    "data = data.set_index(['dateTime'])\n",
    "\n",
    "# Sort the dataFrame just to be sure...\n",
    "data = data.sort_index()\n",
    "\n",
    "data = data.dropna()\n",
    "\n",
    "# Double check the results\n",
    "data.info()"
   ]
  },
  {
   "cell_type": "code",
   "execution_count": 3,
   "metadata": {},
   "outputs": [
    {
     "data": {
      "text/html": [
       "<div>\n",
       "<style scoped>\n",
       "    .dataframe tbody tr th:only-of-type {\n",
       "        vertical-align: middle;\n",
       "    }\n",
       "\n",
       "    .dataframe tbody tr th {\n",
       "        vertical-align: top;\n",
       "    }\n",
       "\n",
       "    .dataframe thead th {\n",
       "        text-align: right;\n",
       "    }\n",
       "</style>\n",
       "<table border=\"1\" class=\"dataframe\">\n",
       "  <thead>\n",
       "    <tr style=\"text-align: right;\">\n",
       "      <th></th>\n",
       "      <th>temperature</th>\n",
       "    </tr>\n",
       "    <tr>\n",
       "      <th>dateTime</th>\n",
       "      <th></th>\n",
       "    </tr>\n",
       "  </thead>\n",
       "  <tbody>\n",
       "    <tr>\n",
       "      <th>2018-11-19 16:45:00</th>\n",
       "      <td>17.28</td>\n",
       "    </tr>\n",
       "    <tr>\n",
       "      <th>2018-11-19 17:00:00</th>\n",
       "      <td>17.29</td>\n",
       "    </tr>\n",
       "    <tr>\n",
       "      <th>2018-11-19 17:15:00</th>\n",
       "      <td>17.23</td>\n",
       "    </tr>\n",
       "    <tr>\n",
       "      <th>2018-11-19 17:30:00</th>\n",
       "      <td>17.21</td>\n",
       "    </tr>\n",
       "    <tr>\n",
       "      <th>2018-11-19 17:45:00</th>\n",
       "      <td>17.03</td>\n",
       "    </tr>\n",
       "  </tbody>\n",
       "</table>\n",
       "</div>"
      ],
      "text/plain": [
       "                     temperature\n",
       "dateTime                        \n",
       "2018-11-19 16:45:00        17.28\n",
       "2018-11-19 17:00:00        17.29\n",
       "2018-11-19 17:15:00        17.23\n",
       "2018-11-19 17:30:00        17.21\n",
       "2018-11-19 17:45:00        17.03"
      ]
     },
     "execution_count": 3,
     "metadata": {},
     "output_type": "execute_result"
    }
   ],
   "source": [
    "data.tail(5)"
   ]
  },
  {
   "cell_type": "code",
   "execution_count": 4,
   "metadata": {},
   "outputs": [
    {
     "name": "stdout",
     "output_type": "stream",
     "text": [
      "[(0, 0, 0), (0, 0, 1), (0, 1, 0), (0, 1, 1), (1, 0, 0), (1, 0, 1), (1, 1, 0), (1, 1, 1)]\n",
      "Examples of parameter combinations for Seasonal ARIMA...\n",
      "SARIMAX: (0, 0, 1) x (0, 0, 1, 15)\n",
      "SARIMAX: (0, 0, 1) x (0, 1, 0, 15)\n",
      "SARIMAX: (0, 1, 0) x (0, 1, 1, 15)\n",
      "SARIMAX: (0, 1, 0) x (1, 0, 0, 15)\n"
     ]
    }
   ],
   "source": [
    "# Tune Seasonal ARIMA model\n",
    "# Define the p, d and q parameters to take any value between 0 and 2\n",
    "p = d = q = range(0,2)\n",
    "\n",
    "# Generate all different combinations of p, q and q triplets\n",
    "pdq = list(it.product(p, d, q))\n",
    "print(pdq)\n",
    "\n",
    "# Generate all different combinations of seasonal p, q and q triplets\n",
    "# Seasonality is one week (24*7 = 168 hours)\n",
    "seasonal_pdq = [(x[0], x[1], x[2], 15) for x in list(it.product(p, d, q))]\n",
    "\n",
    "print('Examples of parameter combinations for Seasonal ARIMA...')\n",
    "print('SARIMAX: {} x {}'.format(pdq[1], seasonal_pdq[1]))\n",
    "print('SARIMAX: {} x {}'.format(pdq[1], seasonal_pdq[2]))\n",
    "print('SARIMAX: {} x {}'.format(pdq[2], seasonal_pdq[3]))\n",
    "print('SARIMAX: {} x {}'.format(pdq[2], seasonal_pdq[4]))"
   ]
  },
  {
   "cell_type": "code",
   "execution_count": 5,
   "metadata": {},
   "outputs": [
    {
     "name": "stdout",
     "output_type": "stream",
     "text": [
      "ARIMA(0, 0, 0)x(0, 0, 0, 15) - AIC:7155.25\n",
      "ARIMA(0, 0, 0)x(0, 0, 1, 15) - AIC:5989.39\n",
      "ARIMA(0, 0, 0)x(0, 1, 0, 15) - AIC:2513.3\n",
      "ARIMA(0, 0, 0)x(0, 1, 1, 15) - AIC:2472.83\n",
      "ARIMA(0, 0, 0)x(1, 0, 0, 15) - AIC:2514.3\n",
      "ARIMA(0, 0, 0)x(1, 0, 1, 15) - AIC:2504.94\n",
      "ARIMA(0, 0, 0)x(1, 1, 0, 15) - AIC:2479.73\n",
      "ARIMA(0, 0, 0)x(1, 1, 1, 15) - AIC:2465.37\n",
      "ARIMA(0, 0, 1)x(0, 0, 0, 15) - AIC:6016.44\n",
      "ARIMA(0, 0, 1)x(0, 0, 1, 15) - AIC:4944.14\n",
      "ARIMA(0, 0, 1)x(0, 1, 0, 15) - AIC:1529.65\n",
      "ARIMA(0, 0, 1)x(0, 1, 1, 15) - AIC:1514.27\n",
      "ARIMA(0, 0, 1)x(1, 0, 0, 15) - AIC:1531.97\n",
      "ARIMA(0, 0, 1)x(1, 0, 1, 15) - AIC:1531.69\n",
      "ARIMA(0, 0, 1)x(1, 1, 0, 15) - AIC:1517.12\n",
      "ARIMA(0, 0, 1)x(1, 1, 1, 15) - AIC:1512.84\n",
      "ARIMA(0, 1, 0)x(0, 0, 0, 15) - AIC:-1238.58\n",
      "ARIMA(0, 1, 0)x(0, 0, 1, 15) - AIC:-1348.54\n",
      "ARIMA(0, 1, 0)x(0, 1, 0, 15) - AIC:-475.85\n",
      "ARIMA(0, 1, 0)x(0, 1, 1, 15) - AIC:-1126.81\n",
      "ARIMA(0, 1, 0)x(1, 0, 0, 15) - AIC:-1271.25\n",
      "ARIMA(0, 1, 0)x(1, 0, 1, 15) - AIC:-1402.21\n",
      "ARIMA(0, 1, 0)x(1, 1, 0, 15) - AIC:-756.1\n",
      "ARIMA(0, 1, 0)x(1, 1, 1, 15) - AIC:-1170.34\n",
      "ARIMA(0, 1, 1)x(0, 0, 0, 15) - AIC:-1407.59\n",
      "ARIMA(0, 1, 1)x(0, 0, 1, 15) - AIC:-1629.28\n",
      "ARIMA(0, 1, 1)x(0, 1, 0, 15) - AIC:-586.4\n",
      "ARIMA(0, 1, 1)x(0, 1, 1, 15) - AIC:-1296.52\n",
      "ARIMA(0, 1, 1)x(1, 0, 0, 15) - AIC:-1501.59\n",
      "ARIMA(0, 1, 1)x(1, 0, 1, 15) - AIC:-1643.82\n",
      "ARIMA(0, 1, 1)x(1, 1, 0, 15) - AIC:-944.33\n",
      "ARIMA(0, 1, 1)x(1, 1, 1, 15) - AIC:-1395.57\n",
      "ARIMA(1, 0, 0)x(0, 0, 0, 15) - AIC:-1239.22\n",
      "ARIMA(1, 0, 0)x(0, 0, 1, 15) - AIC:-1213.37\n",
      "ARIMA(1, 0, 0)x(0, 1, 0, 15) - AIC:-480.8\n",
      "ARIMA(1, 0, 0)x(0, 1, 1, 15) - AIC:-457.16\n",
      "ARIMA(1, 0, 0)x(1, 0, 0, 15) - AIC:-1270.29\n",
      "ARIMA(1, 0, 0)x(1, 0, 1, 15) - AIC:-1261.63\n",
      "ARIMA(1, 0, 0)x(1, 1, 0, 15) - AIC:-756.24\n",
      "ARIMA(1, 0, 0)x(1, 1, 1, 15) - AIC:-742.4\n",
      "ARIMA(1, 0, 1)x(0, 0, 0, 15) - AIC:-1408.83\n",
      "ARIMA(1, 0, 1)x(0, 0, 1, 15) - AIC:-1372.34\n",
      "ARIMA(1, 0, 1)x(0, 1, 0, 15) - AIC:-593.95\n",
      "ARIMA(1, 0, 1)x(0, 1, 1, 15) - AIC:-567.85\n",
      "ARIMA(1, 0, 1)x(1, 0, 0, 15) - AIC:-1500.52\n",
      "ARIMA(1, 0, 1)x(1, 0, 1, 15) - AIC:-1466.1\n",
      "ARIMA(1, 0, 1)x(1, 1, 0, 15) - AIC:-945.7\n",
      "ARIMA(1, 0, 1)x(1, 1, 1, 15) - AIC:-921.99\n",
      "ARIMA(1, 1, 0)x(0, 0, 0, 15) - AIC:-1537.48\n",
      "ARIMA(1, 1, 0)x(0, 0, 1, 15) - AIC:-1913.19\n",
      "ARIMA(1, 1, 0)x(0, 1, 0, 15) - AIC:-659.4\n",
      "ARIMA(1, 1, 0)x(0, 1, 1, 15) - AIC:-1420.4\n",
      "ARIMA(1, 1, 0)x(1, 0, 0, 15) - AIC:-1721.45\n",
      "ARIMA(1, 1, 0)x(1, 0, 1, 15) - AIC:-1911.51\n",
      "ARIMA(1, 1, 0)x(1, 1, 0, 15) - AIC:-1096.08\n",
      "ARIMA(1, 1, 0)x(1, 1, 1, 15) - AIC:-1613.22\n",
      "ARIMA(1, 1, 1)x(0, 0, 0, 15) - AIC:-1681.49\n",
      "ARIMA(1, 1, 1)x(0, 0, 1, 15) - AIC:-2121.43\n",
      "ARIMA(1, 1, 1)x(0, 1, 0, 15) - AIC:-769.77\n",
      "ARIMA(1, 1, 1)x(0, 1, 1, 15) - AIC:-1561.87\n",
      "ARIMA(1, 1, 1)x(1, 0, 0, 15) - AIC:-1897.24\n",
      "ARIMA(1, 1, 1)x(1, 0, 1, 15) - AIC:-2120.12\n",
      "ARIMA(1, 1, 1)x(1, 1, 0, 15) - AIC:-1248.0\n",
      "ARIMA(1, 1, 1)x(1, 1, 1, 15) - AIC:-1783.97\n",
      "Done!\n"
     ]
    }
   ],
   "source": [
    "result_list = []\n",
    "AIC         = []\n",
    "parm_       = []\n",
    "parm_s      = []\n",
    "\n",
    "for param in pdq:\n",
    "    for param_seasonal in seasonal_pdq:\n",
    "        try:\n",
    "            mod = sm.tsa.statespace.SARIMAX(data,\n",
    "                                            order=param,\n",
    "                                            seasonal_order=param_seasonal,\n",
    "                                            enforce_stationarity=False,\n",
    "                                            enforce_invertibility=False)\n",
    "            results = mod.fit()\n",
    "            AIC.append(results.aic)\n",
    "            parm_.append(param)\n",
    "            parm_s.append(param_seasonal)\n",
    "            \n",
    "            print('ARIMA{}x{} - AIC:{}'.format(param, param_seasonal, round(results.aic,2)))\n",
    "            result_list.extend([param, param_seasonal, round(results.aic,2)])\n",
    "        except:\n",
    "            print('error')\n",
    "            continue\n",
    "            \n",
    "print('Done!')"
   ]
  },
  {
   "cell_type": "code",
   "execution_count": 7,
   "metadata": {},
   "outputs": [
    {
     "name": "stdout",
     "output_type": "stream",
     "text": [
      "(1, 1, 1) (0, 0, 1, 15) -2121.426066178455\n"
     ]
    }
   ],
   "source": [
    "min(AIC)\n",
    "pos = AIC.index(min(AIC))\n",
    "print(parm_[pos], parm_s[pos], min(AIC))"
   ]
  }
 ],
 "metadata": {
  "kernelspec": {
   "display_name": "Python 3",
   "language": "python",
   "name": "python3"
  },
  "language_info": {
   "codemirror_mode": {
    "name": "ipython",
    "version": 3
   },
   "file_extension": ".py",
   "mimetype": "text/x-python",
   "name": "python",
   "nbconvert_exporter": "python",
   "pygments_lexer": "ipython3",
   "version": "3.6.6"
  }
 },
 "nbformat": 4,
 "nbformat_minor": 2
}
